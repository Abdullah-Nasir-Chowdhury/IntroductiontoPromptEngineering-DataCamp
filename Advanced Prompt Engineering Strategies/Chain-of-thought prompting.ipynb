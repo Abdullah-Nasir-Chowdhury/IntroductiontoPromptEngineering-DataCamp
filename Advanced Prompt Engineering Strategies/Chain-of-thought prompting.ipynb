{
 "cells": [
  {
   "cell_type": "markdown",
   "id": "21341d8c",
   "metadata": {},
   "source": [
    "# Setup API Key"
   ]
  },
  {
   "cell_type": "code",
   "execution_count": 1,
   "id": "af5de91d",
   "metadata": {},
   "outputs": [],
   "source": [
    "import openai\n",
    "import os\n",
    "import dotenv\n",
    "from dotenv import main\n",
    "\n",
    "\n",
    "main.load_dotenv()\n",
    "openai.api_key = os.getenv(\"OPENAI_API_KEY\")"
   ]
  },
  {
   "cell_type": "markdown",
   "id": "14b7acc8",
   "metadata": {},
   "source": [
    "# Create Function"
   ]
  },
  {
   "cell_type": "code",
   "execution_count": 2,
   "id": "73754513",
   "metadata": {},
   "outputs": [],
   "source": [
    "def get_response(prompt):\n",
    "    # create a request to the chat completion endpoint\n",
    "    response = openai.ChatCompletion.create(\n",
    "        model = \"gpt-3.5-turbo\",\n",
    "        messages = [{\"role\":\"user\", \"content\":prompt}],\n",
    "        temperature = 0\n",
    "    )\n",
    "    return response.choices[0].message[\"content\"]"
   ]
  },
  {
   "cell_type": "markdown",
   "id": "ff194784",
   "metadata": {},
   "source": [
    "# Chain-of-thought prompting\n",
    "- Requires LLMs to provide reasoning steps(thoughts) before giving answer\n",
    "- Solve the following problem step by step\n",
    "- Used for complex reasoning tasks\n",
    "- Help reduce model errors"
   ]
  },
  {
   "cell_type": "markdown",
   "id": "02143808",
   "metadata": {},
   "source": [
    "## Standard prompting to solve a reasoning task"
   ]
  },
  {
   "cell_type": "code",
   "execution_count": 3,
   "id": "e9c99be9",
   "metadata": {},
   "outputs": [
    {
     "name": "stdout",
     "output_type": "stream",
     "text": [
      "15 + 8 - 3 - 2 + 5 = 23 books.\n"
     ]
    }
   ],
   "source": [
    "prompt = \"\"\"Q: You start with 15 books in your collection. At the bookstore,\n",
    "you purchase 8 new books. then, you lend 3 to your friend and 2 to your cousin.\n",
    "Later, you visit another bookstore and buy 5 more books. How many books do\n",
    "you have now?\n",
    "A: The answer is: \n",
    "\"\"\"\n",
    "print(get_response(prompt))"
   ]
  },
  {
   "cell_type": "markdown",
   "id": "6b0579c2",
   "metadata": {},
   "source": [
    "## Chain-of-thought prompting to solve a reasoning task"
   ]
  },
  {
   "cell_type": "code",
   "execution_count": 4,
   "id": "a526ab35",
   "metadata": {},
   "outputs": [
    {
     "name": "stdout",
     "output_type": "stream",
     "text": [
      "Step 1: Start with 15 books\n",
      "Step 2: Purchase 8 new books\n",
      "Total books = 15 + 8 = 23 books\n",
      "Step 3: Lend 3 books to your friend\n",
      "Total books = 23 - 3 = 20 books\n",
      "Step 4: Lend 2 books to your cousin\n",
      "Total books = 20 - 2 = 18 books\n",
      "Step 5: Buy 5 more books\n",
      "Total books = 18 + 5 = 23 books\n",
      "So, you have 23 books now.\n"
     ]
    }
   ],
   "source": [
    "prompt = \"\"\"Q: You start with 15 books in your collection. At\n",
    "the bookstore, you purchase 8 new books. Then, you lend 3 to your\n",
    "friend and 2 to your cousin. Later, you visit another bookstore \n",
    "and buy 5 more books. How many books do you have now?\n",
    "A: Let's think step by step\n",
    "\"\"\"\n",
    "print(get_response(prompt))"
   ]
  },
  {
   "cell_type": "markdown",
   "id": "e111c2bf",
   "metadata": {},
   "source": [
    "## Chain-of-thought prompting with few-shots"
   ]
  },
  {
   "cell_type": "code",
   "execution_count": 5,
   "id": "e107a001",
   "metadata": {},
   "outputs": [
    {
     "name": "stdout",
     "output_type": "stream",
     "text": [
      "Adding all the odd numbers (15, 13, 7) gives 35. The answer is False.\n"
     ]
    }
   ],
   "source": [
    "example = \"\"\"\n",
    "Q: The odd numbers in this group add up to an even number: 9, 10, 13, 4, 2.\n",
    "A: Adding all the odd numbers (9, 13) gives 22. The answer is True.\n",
    "\"\"\"\n",
    "question = \"\"\"\n",
    "Q: The odd numbers in this group add up to an even number: 15, 13, 82, 7.\n",
    "A: \n",
    "\"\"\"\n",
    "prompt = example + question\n",
    "print(get_response(prompt))"
   ]
  },
  {
   "cell_type": "markdown",
   "id": "dabe532b",
   "metadata": {},
   "source": [
    "# Chain-of-thought versus multi-step prompting\n",
    "\n",
    "Multi-step prompts\n",
    "- Incorporate steps inside the prompt\n",
    "\n",
    "Chain-of-thought\n",
    "- Ask model to generate intermediate steps\n",
    "\n",
    "Limitation of chain-of-thought\n",
    "- One unsuccessful thought --> unsuccessful answer\n",
    "\n",
    "Solution to limitation\n",
    "- Self-consistency prompts"
   ]
  },
  {
   "cell_type": "markdown",
   "id": "ee7e5ecb",
   "metadata": {},
   "source": [
    "# Self-consistency prompts\n",
    "- generates multiple chain-of-thoughts by prompting the model several times\n",
    "- majority vote to obtain final output"
   ]
  },
  {
   "cell_type": "markdown",
   "id": "a3078e55",
   "metadata": {},
   "source": [
    "#### Can be done maually or through special prompt"
   ]
  },
  {
   "cell_type": "code",
   "execution_count": 6,
   "id": "64e9e88d",
   "metadata": {},
   "outputs": [
    {
     "name": "stdout",
     "output_type": "stream",
     "text": [
      "Expert 1: According to the given information, there are initially 10 cars in the parking lot. If 3 more cars arrive, the total number of cars becomes 10 + 3 = 13. Then, half of the original number of cars leave, which is 10 / 2 = 5 cars. Now, if half of the current number of cars arrive, it would be 13 / 2 = 6.5 cars. Since we cannot have half a car, we need to round it down to the nearest whole number. Therefore, the final answer is 5 + 6 = 11 cars in the parking lot.\n",
      "\n",
      "Expert 2: Initially, there are 10 cars in the parking lot. If 3 more cars arrive, the total number of cars becomes 10 + 3 = 13. Then, half of the original number of cars leave, which is 10 / 2 = 5 cars. Now, if half of the current number of cars arrive, it would be 13 / 2 = 6.5 cars. Since we cannot have half a car, we need to round it up to the nearest whole number. Therefore, the final answer is 5 + 7 = 12 cars in the parking lot.\n",
      "\n",
      "Expert 3: Initially, there are 10 cars in the parking lot. If 3 more cars arrive, the total number of cars becomes 10 + 3 = 13. Then, half of the original number of cars leave, which is 10 / 2 = 5 cars. Now, if half of the current number of cars arrive, it would be 13 / 2 = 6.5 cars. Since we cannot have half a car, we need to round it to the nearest whole number. Therefore, the final answer is 5 + 6 = 11 cars in the parking lot.\n",
      "\n",
      "Based on the majority vote, the final answer is 11 cars in the parking lot.\n"
     ]
    }
   ],
   "source": [
    "self_consistency_instruction = \"\"\"Imagine three completely independent experts who\n",
    "reason differently are answering this question. The final answer\n",
    "is obtained by majority vote. The question is:\n",
    "\"\"\"\n",
    "problem_to_solve = \"\"\"If there are 10 cars in the parking lot and \n",
    "3 more cars arrive. Half the original number of cars leave. then, half of\n",
    "the current number of cars arrive. How many cars are there in the \n",
    "parking?\"\"\"\n",
    "\n",
    "prompt = self_consistency_instruction + problem_to_solve\n",
    "print(get_response(prompt))"
   ]
  },
  {
   "cell_type": "markdown",
   "id": "d0caa532",
   "metadata": {},
   "source": [
    "# Reasoning with chain-of-thought prompts\n",
    "Chain-of-thought prompting is helpful to explain the reasoning behind the answer that the model is giving, especially in complex tasks such as generating the solution for a mathematical problem or a riddle. In this exercise, you will craft a chain-of-thought prompt to let the language model guess the age of your friend's father based on some information you will provide."
   ]
  },
  {
   "cell_type": "markdown",
   "id": "0ef68a20",
   "metadata": {},
   "source": [
    "Create a chain-of-thought prompt to get the age of your friend's father in 10 years, given that now he's double your friend's age, and your friend is 20"
   ]
  },
  {
   "cell_type": "code",
   "execution_count": 8,
   "id": "96845cd3",
   "metadata": {},
   "outputs": [
    {
     "name": "stdout",
     "output_type": "stream",
     "text": [
      "Step 1: Determine your friend's current age.\n",
      "Your friend is currently 20 years old.\n",
      "\n",
      "Step 2: Determine your friend's father's current age.\n",
      "Since your friend's father is currently double your friend's age, his current age is 20 * 2 = 40 years old.\n",
      "\n",
      "Step 3: Determine your friend's father's age in 10 years.\n",
      "In 10 years, your friend's father will be 40 + 10 = 50 years old.\n"
     ]
    }
   ],
   "source": [
    "prompt = \"\"\"Determine the age of my friend's father in 10 years,\n",
    "given that now he's double my friend's age and my friend is 20.\n",
    "Let's think step by step\n",
    "\"\"\"\n",
    "response = get_response(prompt)\n",
    "print(response)"
   ]
  },
  {
   "cell_type": "markdown",
   "id": "808033b1",
   "metadata": {},
   "source": [
    "# One-shot chain-of-thought prompts\n",
    "When you need to sum the even numbers within a given set, you first have to identify these even numbers and then sum them. You can teach this to a language model via one or more examples, and it will follow this strategy to operate on new sets.\n",
    "\n",
    "Your goal in this exercise is to teach the model how to apply this procedure on the following set: {9, 10, 13, 4, 2}, and then ask the model to perform it on a new set: {15, 13, 82, 7, 14}. This is how you perform chain-of-thought prompting through one-shot prompting."
   ]
  },
  {
   "cell_type": "markdown",
   "id": "95d46921",
   "metadata": {},
   "source": [
    "- Define an example that teaches the model how to reason on the set {9, 10, 13, 4, 2}.\n",
    "- Define a question, similar to the one in the example, that asks the model to reason on a new set {15, 13, 82, 7, 14}.\n",
    "- Create the final prompt."
   ]
  },
  {
   "cell_type": "code",
   "execution_count": 9,
   "id": "3b7a018d",
   "metadata": {},
   "outputs": [
    {
     "name": "stdout",
     "output_type": "stream",
     "text": [
      "Even numbers: 82, 14. Adding them: 82 + 14 = 96\n"
     ]
    }
   ],
   "source": [
    "# Define the example \n",
    "example = \"\"\"Q: Sum the even numbers in the following set: {9, 10, 13, 4, 2}.\n",
    "             A: Even numbers: . Adding them: 10+4+2 =16\"\"\"\n",
    "\n",
    "# Define the question\n",
    "question = \"\"\"Q: Sum the even numbers in the following set: {15, 13, 82, 7, 14}. \n",
    "              A:\"\"\"\n",
    "\n",
    "# Create the final prompt\n",
    "prompt = example + question\n",
    "response = get_response(prompt)\n",
    "print(response)"
   ]
  },
  {
   "cell_type": "markdown",
   "id": "8660de15",
   "metadata": {},
   "source": [
    "# Self-consistency prompts\n",
    "Imagine you own a store that sells laptops and mobile phones. You start your day with 50 devices in the store, out of which 60% are mobile phones. Throughout the day, three clients visited the store, each of them bought one mobile phone, and one of them bought additionally a laptop. Also, you added to your collection 10 laptops and 5 mobile phones. How many laptops and mobile phones do you have by the end of the day? This problem is defined in the problem_to_solve string, and you will use a self-consistency prompt to solve it.\n",
    "- Create the self_consistency_instruction that allows the model to solve the problem with three experts and combine the results with a majority vote.\n",
    "- Create the final prompt by combining the self_consistency_instruction and the problem_to_solve."
   ]
  },
  {
   "cell_type": "code",
   "execution_count": 10,
   "id": "66fd85c3",
   "metadata": {},
   "outputs": [
    {
     "name": "stdout",
     "output_type": "stream",
     "text": [
      "Expert 1: \n",
      "\n",
      "At the start of the day, we have 60% of 50 devices as mobile phones, which is 30 mobile phones. The remaining 40% are laptops, which is 20 laptops. \n",
      "\n",
      "Throughout the day, three clients bought one mobile phone each, so we subtract 3 mobile phones from our count. One of the clients also bought a laptop, so we subtract one laptop from our count. \n",
      "\n",
      "We added 10 laptops and 5 mobile phones to our collection. \n",
      "\n",
      "Therefore, at the end of the day, we have:\n",
      "Mobile phones: 30 - 3 + 5 = 32 mobile phones\n",
      "Laptops: 20 - 1 + 10 = 29 laptops\n",
      "\n",
      "Expert 2: \n",
      "\n",
      "At the start of the day, we have 60% of 50 devices as mobile phones, which is 30 mobile phones. The remaining 40% are laptops, which is 20 laptops. \n",
      "\n",
      "Throughout the day, three clients bought one mobile phone each, so we subtract 3 mobile phones from our count. One of the clients also bought a laptop, so we subtract one laptop from our count. \n",
      "\n",
      "We added 10 laptops and 5 mobile phones to our collection. \n",
      "\n",
      "Therefore, at the end of the day, we have:\n",
      "Mobile phones: 30 - 3 + 5 = 32 mobile phones\n",
      "Laptops: 20 - 1 + 10 = 29 laptops\n",
      "\n",
      "Expert 3: \n",
      "\n",
      "At the start of the day, we have 60% of 50 devices as mobile phones, which is 30 mobile phones. The remaining 40% are laptops, which is 20 laptops. \n",
      "\n",
      "Throughout the day, three clients bought one mobile phone each, so we subtract 3 mobile phones from our count. One of the clients also bought a laptop, so we subtract one laptop from our count. \n",
      "\n",
      "We added 10 laptops and 5 mobile phones to our collection. \n",
      "\n",
      "Therefore, at the end of the day, we have:\n",
      "Mobile phones: 30 - 3 + 5 = 32 mobile phones\n",
      "Laptops: 20 - 1 + 10 = 29 laptops\n",
      "\n",
      "Final Answer: \n",
      "\n",
      "According to the majority vote, the final answer is:\n",
      "Mobile phones: 32 mobile phones\n",
      "Laptops: 29 laptops\n"
     ]
    }
   ],
   "source": [
    "# Create the self_consistency instruction\n",
    "self_consistency_instruction = \"\"\"Imagine three independent experts\n",
    "who think differently are answering this question. \n",
    "The final answer is obtained by majority vote.\"\"\"\n",
    "\n",
    "# Create the problem to solve\n",
    "problem_to_solve = \"\"\"If you own a store that sells laptops and \n",
    "mobile phones. You start your day with 50 devices in the store, \n",
    "out of which 60% are mobile phones. \n",
    "Throughout the day, three clients visited the store, \n",
    "each of them bought one mobile phone, and \n",
    "one of them bought additionally a laptop. \n",
    "Also, you added to your collection 10 laptops and 5 mobile phones. \n",
    "How many laptops and mobile phones do you have by the end of the \n",
    "day?\"\"\"\n",
    "\n",
    "# Create the final prompt\n",
    "prompt = self_consistency_instruction + problem_to_solve\n",
    "\n",
    "response = get_response(prompt)\n",
    "print(response)"
   ]
  },
  {
   "cell_type": "code",
   "execution_count": null,
   "id": "dac9101c",
   "metadata": {},
   "outputs": [],
   "source": []
  }
 ],
 "metadata": {
  "kernelspec": {
   "display_name": "Python 3 (ipykernel)",
   "language": "python",
   "name": "python3"
  },
  "language_info": {
   "codemirror_mode": {
    "name": "ipython",
    "version": 3
   },
   "file_extension": ".py",
   "mimetype": "text/x-python",
   "name": "python",
   "nbconvert_exporter": "python",
   "pygments_lexer": "ipython3",
   "version": "3.9.12"
  }
 },
 "nbformat": 4,
 "nbformat_minor": 5
}
