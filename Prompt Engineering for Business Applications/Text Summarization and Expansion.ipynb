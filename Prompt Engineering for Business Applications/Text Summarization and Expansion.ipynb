{
 "cells": [
  {
   "cell_type": "markdown",
   "id": "21341d8c",
   "metadata": {},
   "source": [
    "# Setup API Key"
   ]
  },
  {
   "cell_type": "code",
   "execution_count": 1,
   "id": "af5de91d",
   "metadata": {},
   "outputs": [],
   "source": [
    "import openai\n",
    "import os\n",
    "import dotenv\n",
    "from dotenv import main\n",
    "\n",
    "\n",
    "main.load_dotenv()\n",
    "openai.api_key = os.getenv(\"OPENAI_API_KEY\")"
   ]
  },
  {
   "cell_type": "markdown",
   "id": "14b7acc8",
   "metadata": {},
   "source": [
    "# Create Function"
   ]
  },
  {
   "cell_type": "code",
   "execution_count": 2,
   "id": "73754513",
   "metadata": {},
   "outputs": [],
   "source": [
    "def get_response(prompt):\n",
    "    # create a request to the chat completion endpoint\n",
    "    response = openai.ChatCompletion.create(\n",
    "        model = \"gpt-3.5-turbo\",\n",
    "        messages = [{\"role\":\"user\", \"content\":prompt}],\n",
    "        temperature = 0\n",
    "    )\n",
    "    return response.choices[0].message[\"content\"]"
   ]
  },
  {
   "cell_type": "markdown",
   "id": "13906baa",
   "metadata": {},
   "source": [
    "# Text Summarization and Expansion\n",
    "- Condenses text into shorter, coherent and informative version while preserving essential meaning\n",
    "- Streamlines business processes\n",
    "       - Finance-> Summarizes lengthy reports\n",
    "       - Marketing-> transforms customer feedback into actionable insights\n",
    "- LLMS can summarize texts with effetive prompts"
   ]
  },
  {
   "cell_type": "markdown",
   "id": "41f005a8",
   "metadata": {},
   "source": [
    "### Ineffective prompt\n",
    "- Only specifies text to summarize"
   ]
  },
  {
   "cell_type": "code",
   "execution_count": 3,
   "id": "5d65ca98",
   "metadata": {},
   "outputs": [
    {
     "name": "stdout",
     "output_type": "stream",
     "text": [
      "The text describes a customer's positive feedback on the XYZ Smart Watch. The customer is impressed with its sleek design, build quality, comfort, and compatibility with different outfits. They also mention that the touchscreen is responsive and user-friendly.\n"
     ]
    }
   ],
   "source": [
    "text = \"\"\"I recently purchased your XYZ Smart Watch and wanted to provide\n",
    "some feedback based on my experience with the product.\n",
    "I must say that I'm impressed with the sleek design and\n",
    "build quality of the watch. It fees comfortable on the wrist\n",
    "and looks great with any outfit. The touchscreen is responsive\n",
    "and easy to navigate through the various features.\n",
    "\"\"\"\n",
    "prompt = f\"\"\"Summarize the text delimited by triple backticks:\n",
    "    ```{text}```\n",
    "\"\"\"\n",
    "print(get_response(prompt))"
   ]
  },
  {
   "cell_type": "markdown",
   "id": "5c8a3a71",
   "metadata": {},
   "source": []
  },
  {
   "cell_type": "markdown",
   "id": "4661c7e2",
   "metadata": {},
   "source": [
    "## Prompt Improvement\n",
    "- Output limits: Specify number of senteces, words, characters.\n",
    "- Output structure: In three bullet points or something of that sort.\n",
    "- Summarization focus: Specific aspects of the product review or such.\n"
   ]
  },
  {
   "cell_type": "code",
   "execution_count": 4,
   "id": "0ec28cca",
   "metadata": {},
   "outputs": [
    {
     "name": "stdout",
     "output_type": "stream",
     "text": [
      "The customer is satisfied with the design, build quality, comfort, and functionality of the XYZ Smart Watch.\n"
     ]
    }
   ],
   "source": [
    "prompt = f\"\"\"Summarize the text delimited by triple backticks in one sentence:\n",
    "    ```{text}```\n",
    "\"\"\"\n",
    "print(get_response(prompt))"
   ]
  },
  {
   "cell_type": "code",
   "execution_count": 5,
   "id": "25c3002d",
   "metadata": {},
   "outputs": [
    {
     "name": "stdout",
     "output_type": "stream",
     "text": [
      "- The XYZ Smart Watch has a sleek design and high build quality.\n",
      "- It is comfortable to wear and looks good with any outfit.\n",
      "- The touchscreen is responsive and user-friendly.\n"
     ]
    }
   ],
   "source": [
    "prompt = f\"\"\"Summarize the text delimited by triple backticks in at\n",
    "most three bullet points:\n",
    "    ```{text}```\n",
    "\"\"\"\n",
    "print(get_response(prompt))"
   ]
  },
  {
   "cell_type": "code",
   "execution_count": 7,
   "id": "13bfbfd5",
   "metadata": {},
   "outputs": [
    {
     "name": "stdout",
     "output_type": "stream",
     "text": [
      "The user recently purchased the XYZ Smart Watch and is providing feedback on their experience. They are impressed with the sleek design and build quality of the watch. It feels comfortable on the wrist and looks great with any outfit. The touchscreen is responsive and easy to navigate through the various features.\n"
     ]
    }
   ],
   "source": [
    "prompt = f\"\"\"Summarize the text delimited by triple backticks \n",
    "focusing on the key features and user experience:\n",
    "    ```{text}```\n",
    "\"\"\"\n",
    "print(get_response(prompt))"
   ]
  },
  {
   "cell_type": "markdown",
   "id": "74368cd8",
   "metadata": {},
   "source": [
    "# Text Expansion:\n",
    "- Generates text from ideas or bullet points\n",
    "- Improves efficiency and productivity\n",
    "- LLMs ccan expand text with well-crafted prompts\n",
    "\n",
    "### Text Expansion Prompts:\n",
    "- Ask model to expand delimited text\n",
    "- Highlight aspects to focus on\n",
    "- Provide output requirements(tone, length, structure, audience)\n",
    "\n",
    "## Expanding service description:"
   ]
  },
  {
   "cell_type": "code",
   "execution_count": 9,
   "id": "138cb17c",
   "metadata": {},
   "outputs": [
    {
     "name": "stdout",
     "output_type": "stream",
     "text": [
      "Social XYZ is a comprehensive social media service that offers strategic development, content creation, and posting to help businesses effectively engage with their target audience and build a strong online community. With increased brand visibility and enhanced customer engagement, businesses can make data-driven marketing decisions to optimize their social media presence and drive growth.\n"
     ]
    }
   ],
   "source": [
    "service_description = \"\"\"Service: Social XYZ\n",
    "- Social Media Strategy Development\n",
    "- Content Creation and Posting\n",
    "- Audience Engagement and Community Building\n",
    "- Increased Brand Visibility\n",
    "- Enhanced Customer Engagement\n",
    "- Data-Driven Marketing Decisions\n",
    "\"\"\"\n",
    "prompt = f\"\"\"\n",
    "Expand the description for the social xyz service delimited by \n",
    "triple backticks to provide an overview of its features and\n",
    "benefits, without bypassing the limit of two sentences. Use a\n",
    "professional tone.\n",
    "```{service_description}```\n",
    "\"\"\"\n",
    "print(get_response(prompt))"
   ]
  },
  {
   "cell_type": "markdown",
   "id": "18a7f2a8",
   "metadata": {},
   "source": [
    "# Exercise"
   ]
  },
  {
   "cell_type": "markdown",
   "id": "ae49fe1f",
   "metadata": {},
   "source": [
    "# Market research report summarization\n",
    "A market research firm needs to analyze and summarize lengthy reports on market trends and customer behavior. They want to know how AI and data privacy are shaping the market and how they're affecting customers. You are provided with a report string about markets trends and how they're affecting customer behavior. Your goal is to craft a prompt to summarize it while focusing on aspects related to AI and data privacy to see their effect on customers.\n",
    "- Craft a prompt that summarizes the report in maximum five sentences, while focusing on aspects related to AI and data privacy using an f-string"
   ]
  },
  {
   "cell_type": "code",
   "execution_count": null,
   "id": "4165b5cd",
   "metadata": {},
   "outputs": [],
   "source": [
    "#  report:\n",
    "report = \"\"\"\n",
    "Title: Market Trends and Customer Behavior Analysis\n",
    "\n",
    "Understanding customer behavior is vital for businesses to remain competitive and relevant in today's dynamic market. This report explores recent trends and shifts in customer behavior, focusing on key drivers of change. The insights aim to assist businesses in making informed decisions and adapting strategies to meet evolving customer demands.\n",
    "\n",
    "1. Introduction:\n",
    "\n",
    "1.1 Background:\n",
    "The analysis of customer behavior has evolved significantly due to technological advancements, data analytics, and changing consumer preferences. To stay competitive, businesses must continuously monitor and adapt to these shifting trends.\n",
    "\n",
    "1.2 Objective:\n",
    "This report provides a comprehensive overview of research trends and changes in customer behavior, with a particular focus on the following key areas:\n",
    "\n",
    "2. AI and Data Privacy:\n",
    "\n",
    "Artificial Intelligence (AI) is transforming customer service and engagement. Companies are increasingly implementing chatbots and virtual assistants to automate customer support. Predictive analytics, powered by AI, allows businesses to forecast customer behavior, making informed decisions. However, the growing concern for data privacy, spurred by regulations like GDPR and CCPA, is impacting how companies handle customer data. Strengthening cybersecurity measures is crucial to protect customer data from cyber threats and breaches.\n",
    "\n",
    "3. E-commerce and Digital Transformation:\n",
    "\n",
    "E-commerce has experienced significant growth, accelerated by the COVID-19 pandemic. Key trends include a shift towards mobile online shopping, the integration of shopping features into social media platforms (social commerce), and the use of augmented reality (AR) and virtual reality (VR) for immersive shopping experiences.\n",
    "\n",
    "4. Personalization and Customer Experience:\n",
    "\n",
    "Customers now expect highly personalized experiences, driving the emergence of AI-driven personalization. Omni-channel experiences that seamlessly connect online and offline interactions are increasingly important. Voice commerce, facilitated by voice-activated devices like smart speakers, is also on the rise.\n",
    "\n",
    "5. Sustainability and Ethical Consumption:\n",
    "\n",
    "Consumer awareness of environmental and ethical issues is influencing buying habits. This trend is reflected in the growing demand for eco-friendly products that are sustainable, recyclable, and biodegradable. Consumers are also favoring brands that demonstrate responsible sourcing and ethical production practices.\n",
    "\n",
    "6. Mobile-First Approach:\n",
    "\n",
    "The widespread use of smartphones has transformed customer-business interactions. As a result, companies are heavily investing in mobile apps to provide convenience and enhance engagement. Mobile payments, including contactless methods and digital wallets, are gaining popularity.\n",
    "\n",
    "7. Conclusion:\n",
    "\n",
    "To remain competitive in today's business landscape, organizations must closely monitor research trends and changes in customer behavior. Adaptation, innovation, and a customer-centric approach are key to success. Businesses should prioritize personalized experiences, sustainable practices, mobile accessibility, and data security to meet evolving customer demands.\n",
    "\n",
    "8. Recommendations:\n",
    "\n",
    "Invest in data analytics and AI to drive personalization and gain deeper customer insights.\n",
    "Embrace sustainable and ethical practices to align with consumer values and preferences.\n",
    "Prioritize the development of mobile experiences and seamless omni-channel engagement.\n",
    "Ensure strict compliance with data privacy regulations and continuously enhance cybersecurity measures to safeguard customer data.\n",
    "\"\"\""
   ]
  },
  {
   "cell_type": "code",
   "execution_count": null,
   "id": "461f08d6",
   "metadata": {},
   "outputs": [],
   "source": [
    "# Craft a prompt to summarize the report\n",
    "prompt = f\"\"\"Summarize the report provided by triple backticks\n",
    "in maximum five sentences. Focus on aspects related to AI and \n",
    "data privacy.\n",
    "```{report}```\n",
    "\"\"\"\n",
    "\n",
    "response = get_response(prompt)\n",
    "\n",
    "print(\"Summarized report: \\n\", response)"
   ]
  },
  {
   "cell_type": "markdown",
   "id": "96a5ee58",
   "metadata": {},
   "source": [
    "# Product features summarization\n",
    "An electronics review website wants to provide concise and easy-to-read summaries of product features for its readers, allowing them to compare and evaluate different products quickly. The review website wants to generate bullet-point summaries. They want you to craft a prompt that summarizes a product_description for a smartphone.\n",
    "- Craft a prompt that summarizes the product_description in no more than five bullet points while focusing on the product features and specifications."
   ]
  },
  {
   "cell_type": "code",
   "execution_count": null,
   "id": "677ab17a",
   "metadata": {},
   "outputs": [],
   "source": [
    "# product description:\n",
    "product_description = \"\"\"\n",
    "The Smartphone XYZ-5000 is a device packed with innovative features to enhance the user experience. Its sleek design and vibrant display make it visually appealing, while the powerful octa-core processor ensures smooth performance and multitasking capabilities.\n",
    "The XYZ-5000 boasts a high-resolution triple-camera system, combining a 48MP primary lens, a 12MP ultra-wide lens, and a 5MP depth sensor, enabling users to capture stunning photos and videos in various shooting scenarios. The device also supports 4K video recording and comes with advanced image stabilization features.\n",
    "With a generous 128GB of internal storage, expandable up to 512GB via microSD, users can store a vast collection of media files and apps without worrying about running out of space. The smartphone runs on the latest Android OS and offers seamless integration with various Google services.\n",
    "In terms of security, the XYZ-5000 features a reliable fingerprint sensor and facial recognition technology for quick and secure unlocking. Additionally, it supports NFC for contactless payments and has a dedicated AI-powered virtual assistant to simplify daily tasks.\n",
    "The device's long-lasting 4000mAh battery ensures all-day usage, and it supports fast charging, providing hours of power with just a few minutes of charging. The XYZ-5000 is also water and dust resistant, giving users peace of mind in various environments.\n",
    "Overall, the Smartphone XYZ-5000 offers a fantastic combination of style, performance, and advanced features, making it an excellent choice for tech enthusiasts and everyday users alike.\n",
    "\"\"\""
   ]
  },
  {
   "cell_type": "code",
   "execution_count": null,
   "id": "d776ab25",
   "metadata": {},
   "outputs": [],
   "source": [
    "# Craft a prompt to summarize the product description\n",
    "prompt = f\"\"\"Summarize the product description provided in \n",
    "triple backticks in no more than five bullet points. Focus\n",
    "on the product features and specifications.\n",
    "```{product_description}```\"\"\"\n",
    "\n",
    "response = get_response(prompt)\n",
    "\n",
    "print(\"Original description: \\n\", product_description)\n",
    "print(\"Summarized description: \\n\", response)"
   ]
  },
  {
   "cell_type": "markdown",
   "id": "cc39a3c5",
   "metadata": {},
   "source": [
    "# Product description expansion\n",
    "As you continue your work on the electronics review website, you've come across some products that are already summarized but lack a comprehensive description on the product's main page. Your task now is to expand these concise product descriptions into detailed narratives, ensuring that each product has both a full description and a bulleted summary for easy comparison. The complete description should effectively capture the product's unique features, benefits, and potential applications. You will apply your prompt on a smart home security camera represented by its product_description.\n",
    "- Craft a prompt that expands the product_description and writes a one paragraph comprehensive overview capturing the key information"
   ]
  },
  {
   "cell_type": "code",
   "execution_count": null,
   "id": "f2680927",
   "metadata": {},
   "outputs": [],
   "source": [
    "# Product Description:\n",
    "Product: \"\"\"Smart Home Security Camera\"\n",
    "- High-tech security camera with night vision and motion detection.\n",
    "- Easy setup and remote monitoring.\n",
    "- Two-way audio communication for real-time interaction.\n",
    "- Mobile app integration for convenient control and alerts.\n",
    "- Weather-resistant design for both indoor and outdoor use.\n",
    "- Smart AI algorithms for advanced person and object detection.\n",
    "- Cloud storage and local backup options for recorded footage.\n",
    "- Infrared LEDs for clear imaging even in complete darkness.\n",
    "- Customizable motion zones to focus on specific areas.\n",
    "- Compatibility with voice assistants for hands-free control.\"\""
   ]
  },
  {
   "cell_type": "code",
   "execution_count": null,
   "id": "c87f23e2",
   "metadata": {},
   "outputs": [],
   "source": [
    "# Craft a prompt to expand the product's description\n",
    "prompt = f\"\"\"\n",
    "Expand the product description for the Smart Home Security Camera\n",
    "delimited by triple backticks \n",
    "to provide an overview of the features, benefits and potential \n",
    "applications.\n",
    "Write a one paragraph compreshensive overview capturing the key information.\n",
    "Use a professional tone.\n",
    "```{product_description}```\n",
    "\"\"\"\n",
    "\n",
    "response = get_response(prompt)\n",
    "\n",
    "print(\"Original description: \\n\", product_description)\n",
    "print(\"Expanded description: \\n\", response)"
   ]
  }
 ],
 "metadata": {
  "kernelspec": {
   "display_name": "Python 3 (ipykernel)",
   "language": "python",
   "name": "python3"
  },
  "language_info": {
   "codemirror_mode": {
    "name": "ipython",
    "version": 3
   },
   "file_extension": ".py",
   "mimetype": "text/x-python",
   "name": "python",
   "nbconvert_exporter": "python",
   "pygments_lexer": "ipython3",
   "version": "3.9.12"
  }
 },
 "nbformat": 4,
 "nbformat_minor": 5
}
