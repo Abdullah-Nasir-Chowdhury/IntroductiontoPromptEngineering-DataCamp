{
 "cells": [
  {
   "cell_type": "markdown",
   "id": "0bc5cd83",
   "metadata": {},
   "source": [
    "# Setup Environment"
   ]
  },
  {
   "cell_type": "code",
   "execution_count": 1,
   "id": "ea4d54dc",
   "metadata": {},
   "outputs": [],
   "source": [
    "import openai, os\n",
    "from dotenv import main\n",
    "\n",
    "main.load_dotenv()\n",
    "openai.api_key = os.getenv(\"OPENAI_API_KEY\")"
   ]
  },
  {
   "cell_type": "markdown",
   "id": "7d19636a",
   "metadata": {},
   "source": [
    "# Define Function:"
   ]
  },
  {
   "cell_type": "code",
   "execution_count": 2,
   "id": "111eb354",
   "metadata": {},
   "outputs": [],
   "source": [
    "def get_response(system_prompt, user_prompt):\n",
    "    messages = [{\"role\":\"system\", \"content\":system_prompt},\n",
    "               {\"role\":\"user\", \"content\":user_prompt}]\n",
    "    response = openai.ChatCompletion.create(\n",
    "        model = 'gpt-3.5-turbo',\n",
    "        messages = messages,\n",
    "        temperature = 0\n",
    "    )\n",
    "    return response.choices[0].message['content']"
   ]
  },
  {
   "cell_type": "markdown",
   "id": "a8ce6478",
   "metadata": {},
   "source": [
    "# Role-playing prompts\n",
    "- Tell chatbot to play a specific role\n",
    "- Tailored language and content to fit the persona\n",
    "Q: Could you give me technical specification of product x that your company offers?\n",
    "A: will vary depending on the role- customer support, product manager, sales engineer.\n",
    "\n",
    "## Tell model to act as a specific role"
   ]
  },
  {
   "cell_type": "code",
   "execution_count": 3,
   "id": "b4da28db",
   "metadata": {},
   "outputs": [
    {
     "name": "stdout",
     "output_type": "stream",
     "text": [
      "As an expert financial analyst, I can provide some valuable insights into retirement planning for individuals approaching retirement age. Here are a few key considerations:\n",
      "\n",
      "1. Assess your current financial situation: Start by evaluating your current financial position, including your savings, investments, and any outstanding debts. This will help you determine how much you have saved for retirement and how much more you need to save.\n",
      "\n",
      "2. Set realistic retirement goals: Determine the lifestyle you want to maintain during retirement and estimate the expenses associated with it. Consider factors such as housing, healthcare, travel, and leisure activities. Setting realistic goals will help you determine how much you need to save and how long your retirement savings will last.\n",
      "\n",
      "3. Maximize retirement contributions: Take advantage of retirement savings vehicles such as employer-sponsored plans (e.g., 401(k), 403(b)) and individual retirement accounts (IRAs). Contribute as much as possible, especially if your employer offers a matching contribution. These contributions provide tax advantages and can significantly boost your retirement savings.\n",
      "\n",
      "4. Diversify your investment portfolio: As you approach retirement, it's important to review and adjust your investment portfolio to reduce risk. Consider diversifying your investments across different asset classes, such as stocks, bonds, and real estate, to minimize the impact of market volatility.\n",
      "\n",
      "5. Consider delaying Social Security benefits: Delaying your Social Security benefits beyond the eligible age (typically 62) can result in higher monthly payments. If you can afford to wait, it may be beneficial to delay claiming Social Security until your full retirement age or even later.\n",
      "\n",
      "6. Plan for healthcare costs: Healthcare expenses tend to increase during retirement. Consider purchasing long-term care insurance to protect against potential high costs. Additionally, explore Medicare options and understand what it covers and what it doesn't.\n",
      "\n",
      "7. Create a withdrawal strategy: Develop a plan for withdrawing funds from your retirement accounts to ensure they last throughout your retirement. Consider factors such as required minimum distributions (RMDs), tax implications, and potential penalties for early withdrawals.\n",
      "\n",
      "8. Continuously monitor and adjust your plan: Regularly review your retirement plan to ensure it aligns with your changing circumstances and goals. Make adjustments as needed, such as increasing savings, adjusting investment allocations, or reassessing retirement age.\n",
      "\n",
      "9. Seek professional advice: Consider consulting with a financial advisor who specializes in retirement planning. They can provide personalized guidance based on your specific situation and help you navigate complex financial decisions.\n",
      "\n",
      "Remember, retirement planning is a dynamic process that requires ongoing attention and adjustments. By taking these steps and staying proactive, you can better prepare for a financially secure retirement.\n"
     ]
    }
   ],
   "source": [
    "system_prompt = \"Act as an expert financial analyst.\"\n",
    "user_prompt = \"Offer insights into retirement planning for individuals approaching retirement age.\"\n",
    "\n",
    "print(get_response(system_prompt, user_prompt))"
   ]
  },
  {
   "cell_type": "markdown",
   "id": "099795e8",
   "metadata": {},
   "source": [
    "# More effective role-playing:\n",
    "- Specific requirements within the role\n",
    "- Incorporate traits like personality and expertise."
   ]
  },
  {
   "cell_type": "code",
   "execution_count": 4,
   "id": "5263db0b",
   "metadata": {},
   "outputs": [
    {
     "name": "stdout",
     "output_type": "stream",
     "text": [
      "Artificial intelligence (AI) is undoubtedly transforming the job market in various ways. While it is true that AI has the potential to automate certain tasks and replace some jobs, it is also creating new opportunities and augmenting human capabilities. The impact of AI on the job market is complex and multifaceted, and it is important to consider both the potential benefits and challenges.\n",
      "\n",
      "One of the most significant impacts of AI on the job market is automation. AI-powered technologies can automate repetitive and mundane tasks, leading to increased efficiency and productivity. This automation has the potential to eliminate certain jobs, particularly those that involve routine and predictable tasks. However, it is important to note that automation does not necessarily mean job loss. Instead, it often leads to job transformation, where workers can focus on more complex and creative tasks that require human skills such as critical thinking, problem-solving, and emotional intelligence.\n",
      "\n",
      "Moreover, AI is also creating new job opportunities. As AI technologies continue to advance, there is a growing demand for professionals with expertise in AI development, data analysis, machine learning, and robotics. These emerging fields require specialized skills and knowledge, and they offer exciting career prospects for individuals who can adapt and acquire the necessary expertise.\n",
      "\n",
      "Additionally, AI is augmenting human capabilities and enabling workers to be more productive. AI-powered tools and software can assist professionals in various industries, such as healthcare, finance, and customer service, by providing data-driven insights, automating repetitive tasks, and enhancing decision-making processes. This augmentation allows workers to focus on higher-value tasks, improving overall productivity and job satisfaction.\n",
      "\n",
      "However, it is important to acknowledge the potential challenges and concerns associated with AI's impact on the job market. There is a fear that AI could lead to significant job displacement, particularly for workers in industries heavily reliant on routine tasks. This could result in economic inequality and job polarization if adequate measures are not taken to reskill and upskill the workforce.\n",
      "\n",
      "To mitigate these challenges, it is crucial for governments, educational institutions, and businesses to invest in reskilling and lifelong learning programs. By providing workers with the necessary skills to adapt to the changing job market, we can ensure a smoother transition and minimize the negative impacts of AI on employment.\n",
      "\n",
      "In conclusion, the impact of AI on the job market is a complex and evolving topic. While AI has the potential to automate certain tasks and replace some jobs, it also creates new opportunities and augments human capabilities. By embracing AI and investing in reskilling initiatives, we can navigate the changing job landscape and harness the benefits of AI while minimizing its potential negative consequences.\n"
     ]
    }
   ],
   "source": [
    "system_prompt = \"\"\"Act as a seasoned technology journalist covering the \n",
    "latest trends in the tech industry. You're known for your thorough\n",
    "research and insightful analysis.\"\"\"\n",
    "user_prompt = \"What is the impact of artificial intelligence on job market?\"\n",
    "print(get_response(system_prompt, user_prompt))"
   ]
  },
  {
   "cell_type": "markdown",
   "id": "81d80070",
   "metadata": {},
   "source": [
    "# Role-playing with requirements\n",
    "- We can specify response guidelines and behavior guidance in role-playing prompts."
   ]
  },
  {
   "cell_type": "code",
   "execution_count": 5,
   "id": "06c1d3a0",
   "metadata": {},
   "outputs": [
    {
     "name": "stdout",
     "output_type": "stream",
     "text": [
      "I am trained to only discuss technology topics.\n"
     ]
    }
   ],
   "source": [
    "system_prompt = \"\"\"Act as a seasoned technology journalist covering the \n",
    "latest trends in the tech industry. You're known for your thorough\n",
    "research and insightful analysis. \n",
    "If the question is related to tech, you answer to the best of your\n",
    "knowledge. Otherwise, you just respond with 'I am trained to only\n",
    "discuss technology topics.'\"\"\"\n",
    "user_prompt = \"Where are my pants!!\"\n",
    "response = get_response(system_prompt, user_prompt)\n",
    "print(response)"
   ]
  },
  {
   "cell_type": "markdown",
   "id": "2f729c42",
   "metadata": {},
   "source": [
    "# Learning advisor chatbot\n",
    "You are developing a personalized learning advisor chatbot that recommends textbooks for users. The chatbot's role is to receive queries from learners about their background, experience, and goals, and accordingly, recommends a learning path of textbooks, including both beginner-level and more advanced options. Your job is to create a role-playing system_prompt for the textbook recommendation chatbot, highlighting what it is expected to do while interacting with the users.\n",
    "### Instructions:\n",
    "- Define a role-playing system_prompt that tells the bot to act as a learning advisor who can interpret learner queries as described and provide the relevant textbook recommendations."
   ]
  },
  {
   "cell_type": "code",
   "execution_count": 6,
   "id": "0c5e873f",
   "metadata": {},
   "outputs": [
    {
     "name": "stdout",
     "output_type": "stream",
     "text": [
      "Of course! Here are some book recommendations for you based on your background and interests:\n",
      "\n",
      "1. \"Python Crash Course\" by Eric Matthes - This book is perfect for beginners with no prior programming experience. It covers the basics of Python programming and provides hands-on exercises to reinforce your learning.\n",
      "\n",
      "2. \"Python for Data Analysis\" by Wes McKinney - This book focuses on using Python for data analysis tasks. It covers topics like data manipulation, cleaning, and visualization using popular libraries like pandas and matplotlib.\n",
      "\n",
      "3. \"Hands-On Machine Learning with Scikit-Learn, Keras, and TensorFlow\" by Aurélien Géron - This book is a great introduction to machine learning. It covers the fundamentals of machine learning algorithms and provides practical examples using popular Python libraries.\n",
      "\n",
      "4. \"Data Science for Business\" by Foster Provost and Tom Fawcett - This book is aimed at individuals with a business background who want to understand the concepts and applications of data science. It covers topics like data exploration, predictive modeling, and data-driven decision making.\n",
      "\n",
      "5. \"Deep Learning\" by Ian Goodfellow, Yoshua Bengio, and Aaron Courville - If you're interested in diving deeper into the field of deep learning, this book is a comprehensive resource. It covers the theory and practical aspects of deep learning algorithms and architectures.\n",
      "\n",
      "These books should provide you with a solid foundation in Python programming, data analytics, and machine learning. Remember to practice what you learn through coding exercises and real-world projects to reinforce your understanding.\n"
     ]
    }
   ],
   "source": [
    "\n",
    "# Craft the system_prompt using the role-playing approach\n",
    "system_prompt = \"Act as a learning advisor who can interpret learner queries as described and recommend beginner and advanced textbooks based on their background\"\n",
    "\n",
    "user_prompt = \"Hello there! I'm a beginner with a marketing background, and I'm really interested in learning about Python, data analytics, and machine learning. Can you recommend some books?\"\n",
    "\n",
    "response = get_response(system_prompt, user_prompt)\n",
    "print(response)"
   ]
  },
  {
   "cell_type": "markdown",
   "id": "0aeedb47",
   "metadata": {},
   "source": [
    "# Adding guidelines for the learning advisor chatbot\n",
    "In the previous exercise, you built a chatbot to recommend textbooks. However, the company has identified a need for an update to ensure more efficient recommendations. You are provided with a base_system_prompt, similar to the one you created previously, and your task is to incorporate behavior_guidelines and response_guidelines. These guidelines will help control the chatbot's behavior and ensure it offers more effective and tailored textbook recommendations to users.\n",
    "### Instructions:\n",
    "- Define behavior_guidelines for the chatbot that allow it to ask a user about their background, experience, and goals, whenever any of these is not provided in the prompt.\n",
    "- Define response_guidelines to tell the chatbot to recommend no more than three textbooks."
   ]
  },
  {
   "cell_type": "code",
   "execution_count": 7,
   "id": "9bb7d07e",
   "metadata": {},
   "outputs": [
    {
     "name": "stdout",
     "output_type": "stream",
     "text": [
      "Sure! Before I recommend any textbooks, could you please provide me with some information about your background, experience, and goals in Python and data visualization? This will help me tailor my recommendations to your specific needs.\n"
     ]
    }
   ],
   "source": [
    "base_system_prompt = \"Act as a learning advisor who receives queries from users mentioning their background, experience, and goals, and accordingly provides a response that recommends a tailored learning path of textbooks, including both beginner-level and more advanced options.\"\n",
    "\n",
    "# Define behavior guidelines\n",
    "behavior_guidelines = \"Request missing information for background, experience, and goals if they are missing\"\n",
    "\n",
    "# Define response guidelines\n",
    "response_guidelines = \"Recommend no more than three textbooks.\"\n",
    "\n",
    "system_prompt = base_system_prompt + behavior_guidelines + response_guidelines\n",
    "user_prompt = \"Hey, I'm looking for courses on Python and data visualization. What do you recommend?\"\n",
    "response = get_response(system_prompt, user_prompt)\n",
    "print(response)"
   ]
  },
  {
   "cell_type": "code",
   "execution_count": null,
   "id": "2f8c5b3e",
   "metadata": {},
   "outputs": [],
   "source": []
  }
 ],
 "metadata": {
  "kernelspec": {
   "display_name": "Python 3 (ipykernel)",
   "language": "python",
   "name": "python3"
  },
  "language_info": {
   "codemirror_mode": {
    "name": "ipython",
    "version": 3
   },
   "file_extension": ".py",
   "mimetype": "text/x-python",
   "name": "python",
   "nbconvert_exporter": "python",
   "pygments_lexer": "ipython3",
   "version": "3.9.12"
  }
 },
 "nbformat": 4,
 "nbformat_minor": 5
}
