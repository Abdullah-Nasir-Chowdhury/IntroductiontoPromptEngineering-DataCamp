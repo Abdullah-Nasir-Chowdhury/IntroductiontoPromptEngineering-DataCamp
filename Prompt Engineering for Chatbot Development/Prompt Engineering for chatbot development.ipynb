{
 "cells": [
  {
   "cell_type": "markdown",
   "id": "21341d8c",
   "metadata": {},
   "source": [
    "# Setup API Key"
   ]
  },
  {
   "cell_type": "code",
   "execution_count": 1,
   "id": "af5de91d",
   "metadata": {},
   "outputs": [],
   "source": [
    "import openai, os\n",
    "from dotenv import main\n",
    "main.load_dotenv()\n",
    "openai.api_key = os.getenv(\"OPENAI_API_KEY\")"
   ]
  },
  {
   "cell_type": "markdown",
   "id": "14b7acc8",
   "metadata": {},
   "source": [
    "# Create Function"
   ]
  },
  {
   "cell_type": "code",
   "execution_count": 2,
   "id": "a9f3ffb1",
   "metadata": {},
   "outputs": [],
   "source": [
    "def get_response(prompt):\n",
    "    messages = [{\"role\":\"user\", \"content\":prompt}]\n",
    "    response = openai.ChatCompletion.create(\n",
    "        model = 'gpt-3.5-turbo',\n",
    "        messages = messages,\n",
    "        temperature = 0\n",
    "    )\n",
    "    return response.choices[0].message[\"content\"]"
   ]
  },
  {
   "cell_type": "markdown",
   "id": "7a7d16f3",
   "metadata": {},
   "source": [
    "# Prompt engineering for chatbot development:\n",
    "- Difficult to predict user questions\n",
    "- Challenge to guarantee effective respones\n",
    "- Prompt engineering guides chatbot behavior\n",
    "# With OpenAI API\n",
    "- Each message has a designated role\n",
    "- System prompts guide chatbot's behavior"
   ]
  },
  {
   "cell_type": "markdown",
   "id": "b4674b31",
   "metadata": {},
   "source": [
    "# New Function for chatbots:\n",
    "- Sending two prompts, one for the system and another for the user"
   ]
  },
  {
   "cell_type": "markdown",
   "id": "b29b3f3d",
   "metadata": {},
   "source": [
    "# Creating a dual-prompt get_response() function\n",
    "Since the majority of the following exercises will be based on calling the ChatCompletion endpoint of the OpenAI API with two prompts (a system prompt and a user prompt), in this exercise, you will create a dual-prompt get_response() function that receives two prompts as input (system_prompt and user_prompt) and returns the response as an output"
   ]
  },
  {
   "cell_type": "code",
   "execution_count": 3,
   "id": "7fa055d4",
   "metadata": {},
   "outputs": [
    {
     "name": "stdout",
     "output_type": "stream",
     "text": [
      "Today is Wednesday.\n"
     ]
    }
   ],
   "source": [
    "def get_response(system_prompt, user_prompt):\n",
    "  # Assign the role and content for each message\n",
    "  messages = [{\"role\": \"system\", \"content\": system_prompt},\n",
    "      \t\t  {\"role\": \"user\", \"content\": user_prompt}]  \n",
    "  response = openai.ChatCompletion.create(\n",
    "      model=\"gpt-3.5-turbo\", messages= messages, temperature=0)\n",
    "  \n",
    "  return response.choices[0].message[\"content\"]\n",
    "\n",
    "# Try the function with a system and user prompts of your choice \n",
    "response = get_response(\"You are my assistant\", \"What day is it today?\")\n",
    "print(response)"
   ]
  },
  {
   "cell_type": "markdown",
   "id": "c4b7dd04",
   "metadata": {},
   "source": [
    "# Customer support chatbot\n",
    "You are tasked with developing a customer support chatbot for an e-commerce company specializing in electronics. This chatbot will assist users with inquiries, order tracking, and troubleshooting common issues. You aim to create a system prompt that clearly defines the chatbot's purpose and provides response guidelines that set the tone for interactions and specify the intended audience\n",
    "### Instructions:\n",
    "- Write out who this chatbot is for and what it should do and save this as the chatbot_purpose.\n",
    "- Define the target audience as tech-savvy individuals interested in purchasing electronic gadgets and save to audience_guidelines.\n",
    "- Define the tone_guidelines that ask the chatbot to use a professional and user-friendly tone while interacting with customers."
   ]
  },
  {
   "cell_type": "code",
   "execution_count": 4,
   "id": "a5fc39c0",
   "metadata": {
    "scrolled": true
   },
   "outputs": [
    {
     "name": "stdout",
     "output_type": "stream",
     "text": [
      "Hello,\n",
      "\n",
      "Thank you for reaching out to our customer support team. I'm sorry to hear that you're experiencing difficulties connecting your new headphones to your device. I'll be happy to assist you in troubleshooting the issue.\n",
      "\n",
      "Firstly, please ensure that your headphones are fully charged or have fresh batteries, depending on the type of headphones you have. Low battery levels can sometimes cause connectivity problems.\n",
      "\n",
      "Next, make sure that your device's Bluetooth is turned on and in pairing mode. Refer to your device's user manual or settings to enable Bluetooth and put it in pairing mode. Once your device is ready, try to pair your headphones again.\n",
      "\n",
      "If the issue persists, try resetting your headphones. The reset process may vary depending on the model, so please consult the user manual for specific instructions. After resetting, attempt to pair your headphones with your device again.\n",
      "\n",
      "If none of the above steps resolve the issue, it's possible that there may be compatibility issues between your headphones and your device. In this case, I recommend checking the compatibility list provided by the headphone manufacturer or contacting their support team for further assistance.\n",
      "\n",
      "If you have any further questions or need additional assistance, please don't hesitate to let me know. I'm here to help!\n",
      "\n",
      "Best regards,\n",
      "[Your Name]\n",
      "Customer Support Specialist\n"
     ]
    }
   ],
   "source": [
    "# Define the purpose of the chatbot\n",
    "chatbot_purpose = \"You handle customer support, specialize in electronics and are there to assist with Inquiries, order tracking and troubleshooting.\"\n",
    "\n",
    "# Define audience guidelines\n",
    "audience_guidelines = \"the target audience are tech-savvy individuals who are interested in purchasing electronic gadgets.\"\n",
    "\n",
    "# Define tone guidelines\n",
    "tone_guidelines = \"Use a professional and user-friendly tone while interacting with customers.\"\n",
    "\n",
    "system_prompt = chatbot_purpose + audience_guidelines + tone_guidelines\n",
    "response = get_response(system_prompt, \"My new headphones aren't connecting to my device\")\n",
    "print(response)"
   ]
  },
  {
   "cell_type": "markdown",
   "id": "c42cc85b",
   "metadata": {},
   "source": [
    "# Behavioral control of a customer support chatbot\n",
    "When the company started using your chatbot from the previous exercise, they realized they wanted it to behave differently. They'd like to incorporate two behavioral conditions. First, they want to refine the customer support chatbot's interactions by asking for an order number if the user is inquiring about an order without providing one. Second, they want the model to express empathy by starting the response with \"I'm sorry to hear about your issue with …\" if the user reports a technical issue.\n",
    "\n",
    "They've assigned this update to you. You need to append these conditions to the base_system_prompt that represents the prompt you engineered in the previous exercise and obtain a refined_system_prompt. You will test the chatbot on two queries.\n",
    "### Instructions:\n",
    "- Ask the user for their order number if they submitted a query about an order without specifying an order number; save this to order_number_condition.\n",
    "- Define a technical_issue_condition where you tell the model to start the response with I'm sorry to hear about your issue with ... if the user is reporting a technical issue.\n",
    "- Create the refined_system_prompt that combines the base_system_prompt and the two new conditions."
   ]
  },
  {
   "cell_type": "code",
   "execution_count": 5,
   "id": "bd1350b7",
   "metadata": {},
   "outputs": [],
   "source": [
    "base_system_prompt = \"\"\"\n",
    "You are the customer support chatbot for an e-commerce platform \n",
    "specializing in electronics. \n",
    "Your role is to assist customers with inquiries, order tracking, \n",
    "and troubleshooting common issues related to their purchases.\n",
    "Your primary audience consists of tech-savvy individuals \n",
    "who are interested in purchasing electronic gadgets. \n",
    "Maintain a professional and user_friendly tone in your responses. \n",
    "\"\"\""
   ]
  },
  {
   "cell_type": "code",
   "execution_count": null,
   "id": "b083033e",
   "metadata": {},
   "outputs": [],
   "source": [
    "# Define the order number condition\n",
    "order_number_condition = \"Ask the user for their order number if they submitted a query about an order wihout specifying an order number.\"\n",
    "\n",
    "# Define the technical issue condition\n",
    "technical_issue_condition = \"Start the response with I'm sorry to hear about your issue with[...] if the user is reporting a technical issue.\"\n",
    "\n",
    "# Create the refined system prompt\n",
    "refined_system_prompt = base_system_prompt + order_number_condition + technical_issue_condition\n",
    "\n",
    "response_1 = get_response(refined_system_prompt, \"My laptop screen is flickering. What should I do?\")\n",
    "response_2 = get_response(refined_system_prompt, \"Can you help me track my recent order?\")\n",
    "\n",
    "print(\"Response 1: \", response_1)\n",
    "print(\"Response 2: \", response_2)\n"
   ]
  }
 ],
 "metadata": {
  "kernelspec": {
   "display_name": "Python 3 (ipykernel)",
   "language": "python",
   "name": "python3"
  },
  "language_info": {
   "codemirror_mode": {
    "name": "ipython",
    "version": 3
   },
   "file_extension": ".py",
   "mimetype": "text/x-python",
   "name": "python",
   "nbconvert_exporter": "python",
   "pygments_lexer": "ipython3",
   "version": "3.9.12"
  }
 },
 "nbformat": 4,
 "nbformat_minor": 5
}
