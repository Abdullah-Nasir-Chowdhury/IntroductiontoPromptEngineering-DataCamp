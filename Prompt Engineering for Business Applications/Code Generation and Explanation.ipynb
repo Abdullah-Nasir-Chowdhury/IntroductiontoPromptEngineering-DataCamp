{
 "cells": [
  {
   "cell_type": "markdown",
   "id": "21341d8c",
   "metadata": {},
   "source": [
    "# Setup API Key"
   ]
  },
  {
   "cell_type": "code",
   "execution_count": 1,
   "id": "af5de91d",
   "metadata": {},
   "outputs": [],
   "source": [
    "import openai\n",
    "import os\n",
    "import dotenv\n",
    "from dotenv import main\n",
    "\n",
    "\n",
    "main.load_dotenv()\n",
    "openai.api_key = os.getenv(\"OPENAI_API_KEY\")"
   ]
  },
  {
   "cell_type": "markdown",
   "id": "14b7acc8",
   "metadata": {},
   "source": [
    "# Create Function"
   ]
  },
  {
   "cell_type": "code",
   "execution_count": 2,
   "id": "73754513",
   "metadata": {},
   "outputs": [],
   "source": [
    "def get_response(prompt):\n",
    "    # create a request to the chat completion endpoint\n",
    "    response = openai.ChatCompletion.create(\n",
    "        model = \"gpt-3.5-turbo\",\n",
    "        messages = [{\"role\":\"user\", \"content\":prompt}],\n",
    "        temperature = 0\n",
    "    )\n",
    "    return response.choices[0].message[\"content\"]"
   ]
  },
  {
   "cell_type": "markdown",
   "id": "006bb575",
   "metadata": {},
   "source": [
    "# Code Generation and Explanation\n",
    "\n",
    "### Code Generation Prompts:\n",
    "- Problem description\n",
    "- Programming language\n",
    "- Format(script, function, class)"
   ]
  },
  {
   "cell_type": "code",
   "execution_count": 3,
   "id": "14229eb1",
   "metadata": {},
   "outputs": [
    {
     "name": "stdout",
     "output_type": "stream",
     "text": [
      "Here is a Python function that accepts a list of quarterly sales and calculates the average sales per quarter:\n",
      "\n",
      "```python\n",
      "def calculate_average_sales(quarterly_sales):\n",
      "    total_sales = sum(quarterly_sales)\n",
      "    num_quarters = len(quarterly_sales)\n",
      "    average_sales = total_sales / num_quarters\n",
      "    return average_sales\n",
      "```\n",
      "\n",
      "You can use this function by passing a list of quarterly sales as an argument. For example:\n",
      "\n",
      "```python\n",
      "sales = [1000, 1500, 2000, 2500]\n",
      "average = calculate_average_sales(sales)\n",
      "print(\"Average sales per quarter:\", average)\n",
      "```\n",
      "\n",
      "Output:\n",
      "```\n",
      "Average sales per quarter: 1750.0\n",
      "```\n"
     ]
    }
   ],
   "source": [
    "prompt = \"\"\"Write a python function that accepts a list of quarterly\n",
    "sales, and outputs the average sales per quarter.\"\"\"\n",
    "response = get_response(prompt)\n",
    "print(response)"
   ]
  },
  {
   "cell_type": "markdown",
   "id": "6986c5de",
   "metadata": {},
   "source": [
    "### Input-output examples\n",
    "- Give model input-output examples to generate a program that maps them"
   ]
  },
  {
   "cell_type": "code",
   "execution_count": 4,
   "id": "e3ec983a",
   "metadata": {},
   "outputs": [
    {
     "name": "stdout",
     "output_type": "stream",
     "text": [
      "def calculate_average_sales(sales_data):\n",
      "    total_sales = sum(sales_data)\n",
      "    average_sales = total_sales / len(sales_data)\n",
      "    return average_sales\n",
      "\n",
      "input1 = [15000, 18000, 20000, 170000]\n",
      "output1 = calculate_average_sales(input1)\n",
      "print(f\"Input: {input1} -> Output: {output1}\")\n",
      "\n",
      "input2 = [10000, 25000, 30000, 15000]\n",
      "output2 = calculate_average_sales(input2)\n",
      "print(f\"Input: {input2} -> Output: {output2}\")\n",
      "\n",
      "input3 = [50000, 75000, 60000, 45000]\n",
      "output3 = calculate_average_sales(input3)\n",
      "print(f\"Input: {input3} -> Output: {output3}\")\n"
     ]
    }
   ],
   "source": [
    "example = \"\"\"\n",
    "Input: [15000, 18000, 20000, 170000] -> Output: 175000.0\n",
    "Input: [10000, 25000, 30000, 15000] -> Output: 20000.0\n",
    "Input: [50000, 75000, 60000, 45000] -> Output: 57500.0\n",
    "\"\"\"\n",
    "prompt = f\"\"\"\n",
    "You are provided with input-output examples delimited by triple\n",
    "backticks for a python program that receives a list of quarterly \n",
    "sales data.\n",
    "Write code for this program.\n",
    "```{example}```\n",
    "\"\"\"\n",
    "response = get_response(prompt)\n",
    "print(response)"
   ]
  },
  {
   "cell_type": "markdown",
   "id": "87b7a7d1",
   "metadata": {},
   "source": [
    "# Code modification\n",
    "- Ask model to modify code according to requirements"
   ]
  },
  {
   "cell_type": "code",
   "execution_count": 5,
   "id": "69d847ec",
   "metadata": {},
   "outputs": [
    {
     "name": "stdout",
     "output_type": "stream",
     "text": [
      "def compute_total_sales(quarterly_sales):\n",
      "    total_sales = sum(quarterly_sales)\n",
      "    print(\"Total sales: \", total_sales)\n",
      "\n",
      "quarterly_sales = [150, 180, 200, 170]\n",
      "compute_total_sales(quarterly_sales)\n"
     ]
    }
   ],
   "source": [
    "script = \"\"\"\n",
    "quarterly_sales = [150, 180,200, 170]\n",
    "total_sales = sum(quarterly_sales)\n",
    "print(\"Total sales: \",total_sales)\n",
    "\"\"\"\n",
    "prompt = f\"\"\"\n",
    "Modify the script delimited by triple backticks to a function that\n",
    "we can call to compute the total sales give quarterly sales.\n",
    "```{script}```\n",
    "\"\"\"\n",
    "response = get_response(prompt)\n",
    "print(response)"
   ]
  },
  {
   "cell_type": "markdown",
   "id": "3f7ca624",
   "metadata": {},
   "source": [
    "# Multiple code modifications"
   ]
  },
  {
   "cell_type": "code",
   "execution_count": 6,
   "id": "311d8ef6",
   "metadata": {},
   "outputs": [
    {
     "name": "stdout",
     "output_type": "stream",
     "text": [
      "```python\n",
      "quarterly_sales = []\n",
      "\n",
      "for i in range(4):\n",
      "    while True:\n",
      "        try:\n",
      "            sales = float(input(\"Enter quarterly sales: \"))\n",
      "            if sales <= 0:\n",
      "                print(\"Sales must be positive. Please try again.\")\n",
      "            else:\n",
      "                quarterly_sales.append(sales)\n",
      "                break\n",
      "        except ValueError:\n",
      "            print(\"Invalid input. Please enter a number.\")\n",
      "\n",
      "total_sales = sum(quarterly_sales)\n",
      "print(\"Total sales: \", total_sales)\n",
      "```\n"
     ]
    }
   ],
   "source": [
    "prompt = f\"\"\"\n",
    "Modify the script delimited by triple backticks to as follows:\n",
    "- Let user input parameters interactively\n",
    "- Make sure to verify inputs are positive, otherwise,\n",
    "display a message for the user, and ask them to provide their input again.\n",
    "```{script}```\n",
    "\"\"\"\n",
    "response = get_response(prompt)\n",
    "print(response)"
   ]
  },
  {
   "cell_type": "markdown",
   "id": "6f2be8cd",
   "metadata": {},
   "source": [
    "# Code explanation"
   ]
  },
  {
   "cell_type": "code",
   "execution_count": 7,
   "id": "0b3abf05",
   "metadata": {},
   "outputs": [],
   "source": [
    "script = \"\"\"\n",
    "quarterly_sales = [150, 180,200, 170]\n",
    "total_sales = sum(quarterly_sales)\n",
    "print(\"Total sales: \",total_sales)\n",
    "\"\"\""
   ]
  },
  {
   "cell_type": "markdown",
   "id": "d972ca85",
   "metadata": {},
   "source": [
    "- Specify length of explanation"
   ]
  },
  {
   "cell_type": "code",
   "execution_count": 8,
   "id": "0ef98cfd",
   "metadata": {},
   "outputs": [
    {
     "ename": "RateLimitError",
     "evalue": "Rate limit reached for gpt-3.5-turbo in organization org-5BrO6nAzjMPI4FIfhxA3i7yU on requests per min. Limit: 3 / min. Please try again in 20s. Contact us through our help center at help.openai.com if you continue to have issues. Please add a payment method to your account to increase your rate limit. Visit https://platform.openai.com/account/billing to add a payment method.",
     "output_type": "error",
     "traceback": [
      "\u001b[1;31m---------------------------------------------------------------------------\u001b[0m",
      "\u001b[1;31mRateLimitError\u001b[0m                            Traceback (most recent call last)",
      "Input \u001b[1;32mIn [8]\u001b[0m, in \u001b[0;36m<cell line: 5>\u001b[1;34m()\u001b[0m\n\u001b[0;32m      1\u001b[0m prompt \u001b[38;5;241m=\u001b[39m \u001b[38;5;124mf\u001b[39m\u001b[38;5;124m\"\"\"\u001b[39m\n\u001b[0;32m      2\u001b[0m \u001b[38;5;124mExplain in one sentence what the code delimited by triple backticks does:\u001b[39m\n\u001b[0;32m      3\u001b[0m \u001b[38;5;132;01m{\u001b[39;00mscript\u001b[38;5;132;01m}\u001b[39;00m\n\u001b[0;32m      4\u001b[0m \u001b[38;5;124m\"\"\"\u001b[39m\n\u001b[1;32m----> 5\u001b[0m response \u001b[38;5;241m=\u001b[39m \u001b[43mget_response\u001b[49m\u001b[43m(\u001b[49m\u001b[43mprompt\u001b[49m\u001b[43m)\u001b[49m\n\u001b[0;32m      6\u001b[0m \u001b[38;5;28mprint\u001b[39m(response)\n",
      "Input \u001b[1;32mIn [2]\u001b[0m, in \u001b[0;36mget_response\u001b[1;34m(prompt)\u001b[0m\n\u001b[0;32m      1\u001b[0m \u001b[38;5;28;01mdef\u001b[39;00m \u001b[38;5;21mget_response\u001b[39m(prompt):\n\u001b[0;32m      2\u001b[0m     \u001b[38;5;66;03m# create a request to the chat completion endpoint\u001b[39;00m\n\u001b[1;32m----> 3\u001b[0m     response \u001b[38;5;241m=\u001b[39m \u001b[43mopenai\u001b[49m\u001b[38;5;241;43m.\u001b[39;49m\u001b[43mChatCompletion\u001b[49m\u001b[38;5;241;43m.\u001b[39;49m\u001b[43mcreate\u001b[49m\u001b[43m(\u001b[49m\n\u001b[0;32m      4\u001b[0m \u001b[43m        \u001b[49m\u001b[43mmodel\u001b[49m\u001b[43m \u001b[49m\u001b[38;5;241;43m=\u001b[39;49m\u001b[43m \u001b[49m\u001b[38;5;124;43m\"\u001b[39;49m\u001b[38;5;124;43mgpt-3.5-turbo\u001b[39;49m\u001b[38;5;124;43m\"\u001b[39;49m\u001b[43m,\u001b[49m\n\u001b[0;32m      5\u001b[0m \u001b[43m        \u001b[49m\u001b[43mmessages\u001b[49m\u001b[43m \u001b[49m\u001b[38;5;241;43m=\u001b[39;49m\u001b[43m \u001b[49m\u001b[43m[\u001b[49m\u001b[43m{\u001b[49m\u001b[38;5;124;43m\"\u001b[39;49m\u001b[38;5;124;43mrole\u001b[39;49m\u001b[38;5;124;43m\"\u001b[39;49m\u001b[43m:\u001b[49m\u001b[38;5;124;43m\"\u001b[39;49m\u001b[38;5;124;43muser\u001b[39;49m\u001b[38;5;124;43m\"\u001b[39;49m\u001b[43m,\u001b[49m\u001b[43m \u001b[49m\u001b[38;5;124;43m\"\u001b[39;49m\u001b[38;5;124;43mcontent\u001b[39;49m\u001b[38;5;124;43m\"\u001b[39;49m\u001b[43m:\u001b[49m\u001b[43mprompt\u001b[49m\u001b[43m}\u001b[49m\u001b[43m]\u001b[49m\u001b[43m,\u001b[49m\n\u001b[0;32m      6\u001b[0m \u001b[43m        \u001b[49m\u001b[43mtemperature\u001b[49m\u001b[43m \u001b[49m\u001b[38;5;241;43m=\u001b[39;49m\u001b[43m \u001b[49m\u001b[38;5;241;43m0\u001b[39;49m\n\u001b[0;32m      7\u001b[0m \u001b[43m    \u001b[49m\u001b[43m)\u001b[49m\n\u001b[0;32m      8\u001b[0m     \u001b[38;5;28;01mreturn\u001b[39;00m response\u001b[38;5;241m.\u001b[39mchoices[\u001b[38;5;241m0\u001b[39m]\u001b[38;5;241m.\u001b[39mmessage[\u001b[38;5;124m\"\u001b[39m\u001b[38;5;124mcontent\u001b[39m\u001b[38;5;124m\"\u001b[39m]\n",
      "File \u001b[1;32m~\\anaconda3\\lib\\site-packages\\openai\\api_resources\\chat_completion.py:25\u001b[0m, in \u001b[0;36mChatCompletion.create\u001b[1;34m(cls, *args, **kwargs)\u001b[0m\n\u001b[0;32m     23\u001b[0m \u001b[38;5;28;01mwhile\u001b[39;00m \u001b[38;5;28;01mTrue\u001b[39;00m:\n\u001b[0;32m     24\u001b[0m     \u001b[38;5;28;01mtry\u001b[39;00m:\n\u001b[1;32m---> 25\u001b[0m         \u001b[38;5;28;01mreturn\u001b[39;00m \u001b[38;5;28msuper\u001b[39m()\u001b[38;5;241m.\u001b[39mcreate(\u001b[38;5;241m*\u001b[39margs, \u001b[38;5;241m*\u001b[39m\u001b[38;5;241m*\u001b[39mkwargs)\n\u001b[0;32m     26\u001b[0m     \u001b[38;5;28;01mexcept\u001b[39;00m TryAgain \u001b[38;5;28;01mas\u001b[39;00m e:\n\u001b[0;32m     27\u001b[0m         \u001b[38;5;28;01mif\u001b[39;00m timeout \u001b[38;5;129;01mis\u001b[39;00m \u001b[38;5;129;01mnot\u001b[39;00m \u001b[38;5;28;01mNone\u001b[39;00m \u001b[38;5;129;01mand\u001b[39;00m time\u001b[38;5;241m.\u001b[39mtime() \u001b[38;5;241m>\u001b[39m start \u001b[38;5;241m+\u001b[39m timeout:\n",
      "File \u001b[1;32m~\\anaconda3\\lib\\site-packages\\openai\\api_resources\\abstract\\engine_api_resource.py:155\u001b[0m, in \u001b[0;36mEngineAPIResource.create\u001b[1;34m(cls, api_key, api_base, api_type, request_id, api_version, organization, **params)\u001b[0m\n\u001b[0;32m    129\u001b[0m \u001b[38;5;129m@classmethod\u001b[39m\n\u001b[0;32m    130\u001b[0m \u001b[38;5;28;01mdef\u001b[39;00m \u001b[38;5;21mcreate\u001b[39m(\n\u001b[0;32m    131\u001b[0m     \u001b[38;5;28mcls\u001b[39m,\n\u001b[1;32m   (...)\u001b[0m\n\u001b[0;32m    138\u001b[0m     \u001b[38;5;241m*\u001b[39m\u001b[38;5;241m*\u001b[39mparams,\n\u001b[0;32m    139\u001b[0m ):\n\u001b[0;32m    140\u001b[0m     (\n\u001b[0;32m    141\u001b[0m         deployment_id,\n\u001b[0;32m    142\u001b[0m         engine,\n\u001b[1;32m   (...)\u001b[0m\n\u001b[0;32m    152\u001b[0m         api_key, api_base, api_type, api_version, organization, \u001b[38;5;241m*\u001b[39m\u001b[38;5;241m*\u001b[39mparams\n\u001b[0;32m    153\u001b[0m     )\n\u001b[1;32m--> 155\u001b[0m     response, _, api_key \u001b[38;5;241m=\u001b[39m \u001b[43mrequestor\u001b[49m\u001b[38;5;241;43m.\u001b[39;49m\u001b[43mrequest\u001b[49m\u001b[43m(\u001b[49m\n\u001b[0;32m    156\u001b[0m \u001b[43m        \u001b[49m\u001b[38;5;124;43m\"\u001b[39;49m\u001b[38;5;124;43mpost\u001b[39;49m\u001b[38;5;124;43m\"\u001b[39;49m\u001b[43m,\u001b[49m\n\u001b[0;32m    157\u001b[0m \u001b[43m        \u001b[49m\u001b[43murl\u001b[49m\u001b[43m,\u001b[49m\n\u001b[0;32m    158\u001b[0m \u001b[43m        \u001b[49m\u001b[43mparams\u001b[49m\u001b[38;5;241;43m=\u001b[39;49m\u001b[43mparams\u001b[49m\u001b[43m,\u001b[49m\n\u001b[0;32m    159\u001b[0m \u001b[43m        \u001b[49m\u001b[43mheaders\u001b[49m\u001b[38;5;241;43m=\u001b[39;49m\u001b[43mheaders\u001b[49m\u001b[43m,\u001b[49m\n\u001b[0;32m    160\u001b[0m \u001b[43m        \u001b[49m\u001b[43mstream\u001b[49m\u001b[38;5;241;43m=\u001b[39;49m\u001b[43mstream\u001b[49m\u001b[43m,\u001b[49m\n\u001b[0;32m    161\u001b[0m \u001b[43m        \u001b[49m\u001b[43mrequest_id\u001b[49m\u001b[38;5;241;43m=\u001b[39;49m\u001b[43mrequest_id\u001b[49m\u001b[43m,\u001b[49m\n\u001b[0;32m    162\u001b[0m \u001b[43m        \u001b[49m\u001b[43mrequest_timeout\u001b[49m\u001b[38;5;241;43m=\u001b[39;49m\u001b[43mrequest_timeout\u001b[49m\u001b[43m,\u001b[49m\n\u001b[0;32m    163\u001b[0m \u001b[43m    \u001b[49m\u001b[43m)\u001b[49m\n\u001b[0;32m    165\u001b[0m     \u001b[38;5;28;01mif\u001b[39;00m stream:\n\u001b[0;32m    166\u001b[0m         \u001b[38;5;66;03m# must be an iterator\u001b[39;00m\n\u001b[0;32m    167\u001b[0m         \u001b[38;5;28;01massert\u001b[39;00m \u001b[38;5;129;01mnot\u001b[39;00m \u001b[38;5;28misinstance\u001b[39m(response, OpenAIResponse)\n",
      "File \u001b[1;32m~\\anaconda3\\lib\\site-packages\\openai\\api_requestor.py:299\u001b[0m, in \u001b[0;36mAPIRequestor.request\u001b[1;34m(self, method, url, params, headers, files, stream, request_id, request_timeout)\u001b[0m\n\u001b[0;32m    278\u001b[0m \u001b[38;5;28;01mdef\u001b[39;00m \u001b[38;5;21mrequest\u001b[39m(\n\u001b[0;32m    279\u001b[0m     \u001b[38;5;28mself\u001b[39m,\n\u001b[0;32m    280\u001b[0m     method,\n\u001b[1;32m   (...)\u001b[0m\n\u001b[0;32m    287\u001b[0m     request_timeout: Optional[Union[\u001b[38;5;28mfloat\u001b[39m, Tuple[\u001b[38;5;28mfloat\u001b[39m, \u001b[38;5;28mfloat\u001b[39m]]] \u001b[38;5;241m=\u001b[39m \u001b[38;5;28;01mNone\u001b[39;00m,\n\u001b[0;32m    288\u001b[0m ) \u001b[38;5;241m-\u001b[39m\u001b[38;5;241m>\u001b[39m Tuple[Union[OpenAIResponse, Iterator[OpenAIResponse]], \u001b[38;5;28mbool\u001b[39m, \u001b[38;5;28mstr\u001b[39m]:\n\u001b[0;32m    289\u001b[0m     result \u001b[38;5;241m=\u001b[39m \u001b[38;5;28mself\u001b[39m\u001b[38;5;241m.\u001b[39mrequest_raw(\n\u001b[0;32m    290\u001b[0m         method\u001b[38;5;241m.\u001b[39mlower(),\n\u001b[0;32m    291\u001b[0m         url,\n\u001b[1;32m   (...)\u001b[0m\n\u001b[0;32m    297\u001b[0m         request_timeout\u001b[38;5;241m=\u001b[39mrequest_timeout,\n\u001b[0;32m    298\u001b[0m     )\n\u001b[1;32m--> 299\u001b[0m     resp, got_stream \u001b[38;5;241m=\u001b[39m \u001b[38;5;28;43mself\u001b[39;49m\u001b[38;5;241;43m.\u001b[39;49m\u001b[43m_interpret_response\u001b[49m\u001b[43m(\u001b[49m\u001b[43mresult\u001b[49m\u001b[43m,\u001b[49m\u001b[43m \u001b[49m\u001b[43mstream\u001b[49m\u001b[43m)\u001b[49m\n\u001b[0;32m    300\u001b[0m     \u001b[38;5;28;01mreturn\u001b[39;00m resp, got_stream, \u001b[38;5;28mself\u001b[39m\u001b[38;5;241m.\u001b[39mapi_key\n",
      "File \u001b[1;32m~\\anaconda3\\lib\\site-packages\\openai\\api_requestor.py:710\u001b[0m, in \u001b[0;36mAPIRequestor._interpret_response\u001b[1;34m(self, result, stream)\u001b[0m\n\u001b[0;32m    702\u001b[0m     \u001b[38;5;28;01mreturn\u001b[39;00m (\n\u001b[0;32m    703\u001b[0m         \u001b[38;5;28mself\u001b[39m\u001b[38;5;241m.\u001b[39m_interpret_response_line(\n\u001b[0;32m    704\u001b[0m             line, result\u001b[38;5;241m.\u001b[39mstatus_code, result\u001b[38;5;241m.\u001b[39mheaders, stream\u001b[38;5;241m=\u001b[39m\u001b[38;5;28;01mTrue\u001b[39;00m\n\u001b[0;32m    705\u001b[0m         )\n\u001b[0;32m    706\u001b[0m         \u001b[38;5;28;01mfor\u001b[39;00m line \u001b[38;5;129;01min\u001b[39;00m parse_stream(result\u001b[38;5;241m.\u001b[39miter_lines())\n\u001b[0;32m    707\u001b[0m     ), \u001b[38;5;28;01mTrue\u001b[39;00m\n\u001b[0;32m    708\u001b[0m \u001b[38;5;28;01melse\u001b[39;00m:\n\u001b[0;32m    709\u001b[0m     \u001b[38;5;28;01mreturn\u001b[39;00m (\n\u001b[1;32m--> 710\u001b[0m         \u001b[38;5;28;43mself\u001b[39;49m\u001b[38;5;241;43m.\u001b[39;49m\u001b[43m_interpret_response_line\u001b[49m\u001b[43m(\u001b[49m\n\u001b[0;32m    711\u001b[0m \u001b[43m            \u001b[49m\u001b[43mresult\u001b[49m\u001b[38;5;241;43m.\u001b[39;49m\u001b[43mcontent\u001b[49m\u001b[38;5;241;43m.\u001b[39;49m\u001b[43mdecode\u001b[49m\u001b[43m(\u001b[49m\u001b[38;5;124;43m\"\u001b[39;49m\u001b[38;5;124;43mutf-8\u001b[39;49m\u001b[38;5;124;43m\"\u001b[39;49m\u001b[43m)\u001b[49m\u001b[43m,\u001b[49m\n\u001b[0;32m    712\u001b[0m \u001b[43m            \u001b[49m\u001b[43mresult\u001b[49m\u001b[38;5;241;43m.\u001b[39;49m\u001b[43mstatus_code\u001b[49m\u001b[43m,\u001b[49m\n\u001b[0;32m    713\u001b[0m \u001b[43m            \u001b[49m\u001b[43mresult\u001b[49m\u001b[38;5;241;43m.\u001b[39;49m\u001b[43mheaders\u001b[49m\u001b[43m,\u001b[49m\n\u001b[0;32m    714\u001b[0m \u001b[43m            \u001b[49m\u001b[43mstream\u001b[49m\u001b[38;5;241;43m=\u001b[39;49m\u001b[38;5;28;43;01mFalse\u001b[39;49;00m\u001b[43m,\u001b[49m\n\u001b[0;32m    715\u001b[0m \u001b[43m        \u001b[49m\u001b[43m)\u001b[49m,\n\u001b[0;32m    716\u001b[0m         \u001b[38;5;28;01mFalse\u001b[39;00m,\n\u001b[0;32m    717\u001b[0m     )\n",
      "File \u001b[1;32m~\\anaconda3\\lib\\site-packages\\openai\\api_requestor.py:775\u001b[0m, in \u001b[0;36mAPIRequestor._interpret_response_line\u001b[1;34m(self, rbody, rcode, rheaders, stream)\u001b[0m\n\u001b[0;32m    773\u001b[0m stream_error \u001b[38;5;241m=\u001b[39m stream \u001b[38;5;129;01mand\u001b[39;00m \u001b[38;5;124m\"\u001b[39m\u001b[38;5;124merror\u001b[39m\u001b[38;5;124m\"\u001b[39m \u001b[38;5;129;01min\u001b[39;00m resp\u001b[38;5;241m.\u001b[39mdata\n\u001b[0;32m    774\u001b[0m \u001b[38;5;28;01mif\u001b[39;00m stream_error \u001b[38;5;129;01mor\u001b[39;00m \u001b[38;5;129;01mnot\u001b[39;00m \u001b[38;5;241m200\u001b[39m \u001b[38;5;241m<\u001b[39m\u001b[38;5;241m=\u001b[39m rcode \u001b[38;5;241m<\u001b[39m \u001b[38;5;241m300\u001b[39m:\n\u001b[1;32m--> 775\u001b[0m     \u001b[38;5;28;01mraise\u001b[39;00m \u001b[38;5;28mself\u001b[39m\u001b[38;5;241m.\u001b[39mhandle_error_response(\n\u001b[0;32m    776\u001b[0m         rbody, rcode, resp\u001b[38;5;241m.\u001b[39mdata, rheaders, stream_error\u001b[38;5;241m=\u001b[39mstream_error\n\u001b[0;32m    777\u001b[0m     )\n\u001b[0;32m    778\u001b[0m \u001b[38;5;28;01mreturn\u001b[39;00m resp\n",
      "\u001b[1;31mRateLimitError\u001b[0m: Rate limit reached for gpt-3.5-turbo in organization org-5BrO6nAzjMPI4FIfhxA3i7yU on requests per min. Limit: 3 / min. Please try again in 20s. Contact us through our help center at help.openai.com if you continue to have issues. Please add a payment method to your account to increase your rate limit. Visit https://platform.openai.com/account/billing to add a payment method."
     ]
    }
   ],
   "source": [
    "prompt = f\"\"\"\n",
    "Explain in one sentence what the code delimited by triple backticks does:\n",
    "{script}\n",
    "\"\"\"\n",
    "response = get_response(prompt)\n",
    "print(response)"
   ]
  },
  {
   "cell_type": "markdown",
   "id": "9ea935a6",
   "metadata": {},
   "source": [
    "- Detailed:"
   ]
  },
  {
   "cell_type": "code",
   "execution_count": null,
   "id": "c40502dc",
   "metadata": {},
   "outputs": [],
   "source": [
    "prompt= f\"\"\"\n",
    "Explain what the code delimited by triple backticks does.\n",
    "Let's think step by step.\n",
    "```{script}```\n",
    "\"\"\"\n",
    "response = get_response(prompt)\n",
    "print(response)"
   ]
  },
  {
   "cell_type": "markdown",
   "id": "4f074189",
   "metadata": {},
   "source": [
    "# Exercise"
   ]
  },
  {
   "cell_type": "markdown",
   "id": "651fe2ec",
   "metadata": {},
   "source": [
    "# Code generation with problem description\n",
    "You work as an analyst for a retail company and analyze monthly sales data. You need to develop a Python function that accepts a list of 12 numbers representing sales for each month of the year and outputs the month with the highest sales value. This information will help your company identify the most profitable month. You feed the problem description to a language model to get help. You will then check the code to ensure it's correct for use.\n",
    "### Instructions:\n",
    "- Craft a prompt that asks the model to write a Python function that receives a list of 12 floats representing monthly sales data as input and, returns the month with the highest sales value as output."
   ]
  },
  {
   "cell_type": "code",
   "execution_count": null,
   "id": "81c07516",
   "metadata": {},
   "outputs": [],
   "source": [
    "# Craft a prompt that asks the model for the function\n",
    "prompt = f\"\"\"\n",
    "Your task is to write a python function that takes a list of 12 numbers representing sales for each month of the year and returns the month with the highest sales value. \n",
    "\"\"\"\n",
    "\n",
    "response = get_response(prompt)\n",
    "print(response)"
   ]
  },
  {
   "cell_type": "markdown",
   "id": "893ca79c",
   "metadata": {},
   "source": [
    "# Input-output examples for code generation\n",
    "You work as a project manager and need to estimate the time it will take to complete different projects. Your task is to develop a Python function that can predict the estimated completion time for a project based on historical data. You are given a set of examples in the examples string where different factors are associated with project completion time. Each example includes the factors' numerical values and the corresponding estimated completion time. You decide to prompt the language model to help you identify the underlying pattern that maps the inputs to the outputs and provides the code for the function. As always, you'll verify the correctness of the code before using it.\n",
    "### Instructions:\n",
    "- Craft a prompt that asks the model to infer the Python function that maps the inputs to the outputs in the provided examples."
   ]
  },
  {
   "cell_type": "code",
   "execution_count": null,
   "id": "2b166597",
   "metadata": {},
   "outputs": [],
   "source": [
    "examples=\"\"\"input = [10, 5, 8] -> output = 24\n",
    "input = [5, 2, 4] -> output = 12\n",
    "input = [2, 1, 3] -> output = 7\n",
    "input = [8, 4, 6] -> output = 19\n",
    "\"\"\"\n",
    "\n",
    "# Craft a prompt that asks the model for the function\n",
    "prompt = f\"\"\"\n",
    "You are provided with input-output examples delimited by triple\n",
    "backticks for a python function that can predict the estimated completion time for a project based on historical data. Each example includes the factors', numerical values and the corresponding estimated completion time.\n",
    "Write code for this program.\n",
    "```{examples}```\n",
    "\"\"\"\n",
    "\n",
    "response = get_response(prompt)\n",
    "print(response)"
   ]
  },
  {
   "cell_type": "markdown",
   "id": "9c338210",
   "metadata": {},
   "source": [
    "# Modifying code with multi-step prompts\n",
    "You are a home improvement contractor specializing in flooring installations. You need to develop a Python function that calculates the area and perimeter of a rectangular floor in a room to help you determine the amount of flooring material required for the project.\n",
    "\n",
    "You are given a string named function, which contains a starter function that calculates the area of a rectangular floor given its width and length. Using a multi-step prompt, you need to prompt the language model to modify this function to return the perimeter of the rectangle as well, and to test if the inputs (floor dimensions) are positive, and if not, display appropriate error messages.\n",
    "### Instructions:\n",
    "- Craft a multi-step prompt that asks the model to modify the function according to the specified requirements."
   ]
  },
  {
   "cell_type": "code",
   "execution_count": null,
   "id": "befdd828",
   "metadata": {},
   "outputs": [],
   "source": [
    "\n",
    "function = \"\"\"def calculate_area_rectangular_floor(width, length):\n",
    "\t\t\t\t\treturn width*length\"\"\"\n",
    "\n",
    "# Craft a multi-step prompt that asks the model to adjust the function\n",
    "prompt = f\"\"\"\n",
    "Modify the string delimited by triple backticks as follows:\n",
    "- Return the perimeter of the rectangle as well\n",
    "- test if the inputs(floor dimenstions) are positive otherwise,\n",
    "\tdisplay appropriate error message\n",
    "\n",
    "```{function}```\n",
    "\"\"\"\n",
    "\n",
    "response = get_response(prompt)\n",
    "print(response)"
   ]
  },
  {
   "cell_type": "markdown",
   "id": "517537d2",
   "metadata": {},
   "source": [
    "# Explaining code step by step\n",
    "As a financial analyst at a consulting firm, you're tasked with analyzing investment portfolios and providing insights to clients. While reviewing a set of financial data files, you come across a Python function that seems related to analyzing portfolios, but you're unsure of its exact purpose. You decide to use chain-of-thought prompting to let the language model decipher it step by step.\n",
    "### Instructions:\n",
    "- Craft a chain-of-thought prompt that asks the model to explain the provided function."
   ]
  },
  {
   "cell_type": "code",
   "execution_count": null,
   "id": "d9d52ad9",
   "metadata": {},
   "outputs": [],
   "source": [
    "def analyze_portfolio(portfolio_data):\n",
    "  total_value = 0\n",
    "  highest_value = 0\n",
    "  lowest_value = float('inf')\n",
    "  \n",
    "  for entry in portfolio_data:\n",
    "    total_value += entry[1]\n",
    "    if entry[1] > highest_value:\n",
    "        highest_value = entry[1]\n",
    "    if entry[1] < lowest_value:\n",
    "        lowest_value = entry[1]\n",
    "\n",
    "  average_value = total_value / len(portfolio_data)\n",
    "  return highest_value, lowest_value, average_value\n"
   ]
  },
  {
   "cell_type": "code",
   "execution_count": null,
   "id": "659d132a",
   "metadata": {},
   "outputs": [],
   "source": [
    "function = \"\"\"\n",
    "\n",
    "def analyze_portfolio(portfolio_data):\n",
    "  total_value = 0\n",
    "  highest_value = 0\n",
    "  lowest_value = float('inf')\n",
    "  \n",
    "  for entry in portfolio_data:\n",
    "    total_value += entry[1]\n",
    "    if entry[1] > highest_value:\n",
    "        highest_value = entry[1]\n",
    "    if entry[1] < lowest_value:\n",
    "        lowest_value = entry[1]\n",
    "\n",
    "  average_value = total_value / len(portfolio_data)\n",
    "  return highest_value, lowest_value, average_value\n",
    "  \n",
    "\"\"\""
   ]
  },
  {
   "cell_type": "code",
   "execution_count": null,
   "id": "68393872",
   "metadata": {},
   "outputs": [],
   "source": [
    "# Craft a chain-of-thought prompt that asks the model to explain what the function does\n",
    "prompt = f\"\"\"\n",
    "Your task is to explain the given function delimited by triple backticks in a step by step fashion.\n",
    "\n",
    "```{function}```\n",
    "\"\"\"\n",
    " \n",
    "response = get_response(prompt)\n",
    "print(response)"
   ]
  }
 ],
 "metadata": {
  "kernelspec": {
   "display_name": "Python 3 (ipykernel)",
   "language": "python",
   "name": "python3"
  },
  "language_info": {
   "codemirror_mode": {
    "name": "ipython",
    "version": 3
   },
   "file_extension": ".py",
   "mimetype": "text/x-python",
   "name": "python",
   "nbconvert_exporter": "python",
   "pygments_lexer": "ipython3",
   "version": "3.9.12"
  }
 },
 "nbformat": 4,
 "nbformat_minor": 5
}
