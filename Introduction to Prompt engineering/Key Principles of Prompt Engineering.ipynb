{
 "cells": [
  {
   "cell_type": "markdown",
   "id": "3e7bf7cf",
   "metadata": {},
   "source": [
    "# Use Appropriate Action verbs\n",
    "### Effective:\n",
    "- write     \n",
    "- describe\n",
    "- complete\n",
    "- explain \n",
    "- evaluate\n",
    "### Ineffective:\n",
    "- understand \n",
    "- think \n",
    "- feel \n",
    "- try \n",
    "- know\n"
   ]
  },
  {
   "cell_type": "markdown",
   "id": "7f631231",
   "metadata": {},
   "source": [
    "# Formulate Detailed Instructions\n",
    "### Effective:\n",
    "- Write a descriptive paragraph about the topic\n",
    "### Ineffective:\n",
    "- Tell me about the topic"
   ]
  },
  {
   "cell_type": "markdown",
   "id": "cd978275",
   "metadata": {},
   "source": [
    "# Imprecise description:\n",
    "### Effective:\n",
    "- Write a short text about prompt engineering\n",
    "### Ineffective\n",
    "- Write a two sentence text explaining prompt engineering"
   ]
  },
  {
   "cell_type": "markdown",
   "id": "5a321612",
   "metadata": {},
   "source": [
    "### Limiting Output Length:\n",
    "#### max_tokens: \n",
    "limit on token numbers, output can't bypass it, might lead to incomplete/cut responses\n",
    "#### limit words, sentences or paragraphs: \n",
    "output may bypass it, complete responses guaranteed."
   ]
  },
  {
   "cell_type": "markdown",
   "id": "7cacbdd4",
   "metadata": {},
   "source": [
    "# Prompt Components:"
   ]
  },
  {
   "cell_type": "markdown",
   "id": "a22574bc",
   "metadata": {},
   "source": [
    "Instructions and input data to operate on\n",
    "Text summarization:\n",
    "-Instruction: Summarize the given text\n",
    "-Input Data: '''text to summarize'''"
   ]
  },
  {
   "cell_type": "markdown",
   "id": "e1bd5518",
   "metadata": {},
   "source": [
    "## Create a well structured prompt with delimeters:\n",
    "- start prompt with instructions\n",
    "- use delimeters (paranthese, brackets, backticks, etc) to specify the input parts\n",
    "- mention in the prompt which delimeters are used."
   ]
  },
  {
   "cell_type": "markdown",
   "id": "b12318c9",
   "metadata": {},
   "source": [
    "## Using f strings(formatted strings)"
   ]
  },
  {
   "cell_type": "markdown",
   "id": "91aeada2",
   "metadata": {},
   "source": [
    "- include defined string into another string"
   ]
  },
  {
   "cell_type": "markdown",
   "id": "7cde2ffa",
   "metadata": {},
   "source": [
    "# Setup"
   ]
  },
  {
   "cell_type": "code",
   "execution_count": 1,
   "id": "ceb6c6cb",
   "metadata": {},
   "outputs": [],
   "source": [
    "import openai, os, sys\n",
    "from dotenv import main\n",
    "\n",
    "main.load_dotenv()\n",
    "\n",
    "openai.api_key=os.getenv(\"OPENAI_API_KEY\")"
   ]
  },
  {
   "cell_type": "code",
   "execution_count": 5,
   "id": "5878a300",
   "metadata": {},
   "outputs": [],
   "source": [
    "story =\"\"\"In a distant galaxy, there was a brave space explorer named Alex. \n",
    "        Alex had spent years traveling through the cosmos, discovering new planets \n",
    "        and meeting alien species. One fateful day, while exploring an uncharted \n",
    "        asteroid belt, Alex stumbled upon a peculiar object that would change the \n",
    "        course of their interstellar journey forever... \"\"\"\n",
    "prompt = \"\"\"You are a junior developer at a dynamic startup \n",
    "that generates content with the help of AI. \n",
    "The company believes this technology can revolutionize \n",
    "storytelling, and you are excited to be a part of it. \n",
    "Today, your task is to generate a continuation of the provided \n",
    "story delimited by triple quotes:\n",
    "'''{story}'''\n",
    ".\"\"\"\n"
   ]
  },
  {
   "cell_type": "code",
   "execution_count": 8,
   "id": "65bfd391",
   "metadata": {},
   "outputs": [],
   "source": [
    "def get_response(prompt):\n",
    "    response = openai.ChatCompletion.create(\n",
    "        model = 'gpt-3.5-turbo',\n",
    "        messages = [{\"role\":\"user\", \"content\":prompt}], \n",
    "        temperature =0\n",
    "    )\n",
    "    return response.choices[0].message[\"content\"]"
   ]
  },
  {
   "cell_type": "code",
   "execution_count": 9,
   "id": "5d5b9816",
   "metadata": {},
   "outputs": [
    {
     "name": "stdout",
     "output_type": "stream",
     "text": [
      "\n",
      " Original story: \n",
      " In a distant galaxy, there was a brave space explorer named Alex. Alex had spent years traveling through the cosmos, discovering new planets and meeting alien species. One fateful day, while exploring an uncharted asteroid belt, Alex stumbled upon a peculiar object that would change the course of their interstellar journey forever... \n",
      "\n",
      " Generated story: \n",
      " '''Once upon a time in a small village, there lived a young girl named Lily. She was known for her curiosity and adventurous spirit. One day, while exploring the outskirts of the village, Lily stumbled upon an old, dusty book hidden beneath a pile of leaves.\n",
      "\n",
      "Intrigued, Lily carefully brushed off the dirt and opened the book. To her surprise, the pages were filled with strange symbols and illustrations she had never seen before. As she flipped through the pages, a soft glow emanated from the book, and a voice whispered in her ear, \"Lily, you have found the Book of Imagination.\"\n",
      "\n",
      "Startled yet excited, Lily listened intently as the voice continued, \"This book holds the power to bring stories to life. With your imagination and the help of AI, you can create worlds beyond your wildest dreams.\"\n",
      "\n",
      "Unable to contain her excitement, Lily decided to take the book home and experiment with its powers. She spent hours studying the symbols and deciphering their meanings. With each passing day, Lily's understanding of the book grew, and she became more confident in her ability to harness its power.\n",
      "\n",
      "One evening, as the sun began to set, Lily sat in her room, ready to embark on her first adventure. She closed her eyes, held the book tightly, and whispered, \"I want to visit a magical forest filled with talking animals and enchanted trees.\"\n",
      "\n",
      "In an instant, Lily felt a rush of wind and opened her eyes to find herself standing in the midst of a vibrant forest. The trees whispered secrets, and colorful birds fluttered overhead, singing melodious tunes. Excitement filled her heart as she realized that her imagination had come to life.\n",
      "\n",
      "Lily spent days exploring the magical forest, befriending talking animals, and learning from wise old trees. She discovered hidden treasures, solved riddles, and even helped resolve conflicts among the forest inhabitants. Each adventure brought her closer to understanding the true power of storytelling.\n",
      "\n",
      "As time went on, Lily's reputation as a storyteller spread far and wide. People from neighboring villages would gather around her, eager to hear her tales of adventure and magic. The stories she created with the help of the Book of Imagination and AI captivated audiences, transporting them to worlds they had never imagined.\n",
      "\n",
      "Lily's storytelling revolutionized the way people experienced stories. With the combination of her vivid imagination and the power of AI, she was able to create immersive and interactive narratives that touched the hearts of many. The once small village became a hub of creativity and innovation, attracting artists, writers, and dreamers from all corners of the world.\n",
      "\n",
      "Lily's journey had only just begun, and she knew that there were countless stories waiting to be told. With the Book of Imagination in her hands and the support of her newfound community, she was determined to push the boundaries of storytelling and continue to inspire others with her magical tales.'''\n"
     ]
    }
   ],
   "source": [
    "response = get_response(prompt)\n",
    "\n",
    "print('\\n Original story: \\n', story)\n",
    "print('\\n Generated story: \\n', response)"
   ]
  },
  {
   "cell_type": "markdown",
   "id": "5849ebd4",
   "metadata": {},
   "source": [
    "# Change style of output"
   ]
  },
  {
   "cell_type": "code",
   "execution_count": 16,
   "id": "b15a39f3",
   "metadata": {},
   "outputs": [],
   "source": [
    "prompt = f\"\"\"\n",
    "            Complete the given story with only two paragraphs \\\n",
    "            within triple quotes in the style of \\\n",
    "            William shakespeare \\\n",
    "            '''{story}'''\n",
    "\"\"\""
   ]
  },
  {
   "cell_type": "code",
   "execution_count": 17,
   "id": "74151e56",
   "metadata": {},
   "outputs": [
    {
     "name": "stdout",
     "output_type": "stream",
     "text": [
      "\n",
      " Original story: \n",
      " In a distant galaxy, there was a brave space explorer named Alex. Alex had spent years traveling through the cosmos, discovering new planets and meeting alien species. One fateful day, while exploring an uncharted asteroid belt, Alex stumbled upon a peculiar object that would change the course of their interstellar journey forever... \n",
      "\n",
      " Generated story: \n",
      " \"In a distant galaxy, there was a brave space explorer named Alex. Alex had spent years traveling through the cosmos, discovering new planets and meeting alien species. One fateful day, while exploring an uncharted asteroid belt, Alex stumbled upon a peculiar object that would change the course of their interstellar journey forever.\n",
      "\n",
      "As Alex cautiously approached the mysterious artifact, its radiant glow captivated their senses. The object, adorned with intricate engravings and pulsating with an otherworldly energy, seemed to beckon Alex closer. With trembling hands, Alex reached out and touched the artifact, instantly being engulfed in a blinding light. When the brilliance subsided, Alex found themselves transported to a realm beyond imagination.\n",
      "\n",
      "Surrounded by celestial wonders and ethereal beings, Alex realized they had entered a realm of pure magic and enchantment. The artifact had granted them the ability to traverse the cosmos effortlessly, transcending the limitations of time and space. With newfound purpose and a heart filled with curiosity, Alex embarked on a grand quest to unravel the secrets of the universe, guided by the celestial whispers and the eternal light of the artifact.\"\n"
     ]
    }
   ],
   "source": [
    "response = get_response(prompt)\n",
    "print(\"\\n Original story: \\n\", story)\n",
    "print(\"\\n Generated story: \\n\", response)"
   ]
  },
  {
   "cell_type": "code",
   "execution_count": null,
   "id": "e252dfb9",
   "metadata": {},
   "outputs": [],
   "source": []
  }
 ],
 "metadata": {
  "kernelspec": {
   "display_name": "Python 3 (ipykernel)",
   "language": "python",
   "name": "python3"
  },
  "language_info": {
   "codemirror_mode": {
    "name": "ipython",
    "version": 3
   },
   "file_extension": ".py",
   "mimetype": "text/x-python",
   "name": "python",
   "nbconvert_exporter": "python",
   "pygments_lexer": "ipython3",
   "version": "3.9.12"
  }
 },
 "nbformat": 4,
 "nbformat_minor": 5
}
