{
 "cells": [
  {
   "cell_type": "markdown",
   "id": "21341d8c",
   "metadata": {},
   "source": [
    "# Setup API Key"
   ]
  },
  {
   "cell_type": "code",
   "execution_count": 1,
   "id": "af5de91d",
   "metadata": {},
   "outputs": [],
   "source": [
    "import openai\n",
    "import os\n",
    "import dotenv\n",
    "from dotenv import main\n",
    "\n",
    "\n",
    "main.load_dotenv()\n",
    "openai.api_key = os.getenv(\"OPENAI_API_KEY\")"
   ]
  },
  {
   "cell_type": "markdown",
   "id": "14b7acc8",
   "metadata": {},
   "source": [
    "# Create Function"
   ]
  },
  {
   "cell_type": "code",
   "execution_count": 2,
   "id": "73754513",
   "metadata": {},
   "outputs": [],
   "source": [
    "def get_response(prompt):\n",
    "    # create a request to the chat completion endpoint\n",
    "    response = openai.ChatCompletion.create(\n",
    "        model = \"gpt-3.5-turbo\",\n",
    "        messages = [{\"role\":\"user\", \"content\":prompt}],\n",
    "        temperature = 0\n",
    "    )\n",
    "    return response.choices[0].message[\"content\"]"
   ]
  },
  {
   "cell_type": "markdown",
   "id": "963c0996",
   "metadata": {},
   "source": [
    "# Text analysis\n",
    "- Examining text to extract relevant information from it\n",
    "    - Text Classification\n",
    "    - Entity extraction\n",
    "- Companies should seek legal advice when using customer data\n",
    "\n",
    "## Text Classification:\n",
    "- Assign categories to text\n",
    "- Example: sentiment analysis\n",
    "\n",
    "## Specified categories\n",
    "- Specify classification categories when known\n",
    "- Mention output requirements"
   ]
  },
  {
   "cell_type": "code",
   "execution_count": 3,
   "id": "8cb92241",
   "metadata": {},
   "outputs": [
    {
     "name": "stdout",
     "output_type": "stream",
     "text": [
      "positive\n"
     ]
    }
   ],
   "source": [
    "text = '''\n",
    "I bought your X smart watch and wanted to share my positive experience.\n",
    "Impressed with its sleek design, comfort and touchscreen usability.\n",
    "'''\n",
    "prompt = f'''\n",
    "Classify the sentiment of the text delimited by triple backticks as\n",
    "positive, negative or neutral. Give your answer as a single word:\n",
    "```{text}```\n",
    "'''\n",
    "response = get_response(prompt)\n",
    "print(response)"
   ]
  },
  {
   "cell_type": "markdown",
   "id": "ee30ffe7",
   "metadata": {},
   "source": [
    "# Unspecified categories\n",
    "- Model relies on internal knowledge.\n",
    "- Not recommended"
   ]
  },
  {
   "cell_type": "code",
   "execution_count": 4,
   "id": "603a1970",
   "metadata": {},
   "outputs": [
    {
     "name": "stdout",
     "output_type": "stream",
     "text": [
      "Positive\n"
     ]
    }
   ],
   "source": [
    "prompt = f'''\n",
    "Classify the sentiment of the text delimited by triple backticks.\n",
    "Give your answer as a single word.\n",
    "```{text}```\n",
    "'''\n",
    "response = get_response(prompt)\n",
    "print(response)"
   ]
  },
  {
   "cell_type": "markdown",
   "id": "f5f4a2e0",
   "metadata": {},
   "source": [
    "# Multiple classes\n",
    "- Text can fit into multiple classes\n",
    "- Define a maximum number of classes if they are not known."
   ]
  },
  {
   "cell_type": "code",
   "execution_count": 5,
   "id": "8b7ae583",
   "metadata": {},
   "outputs": [
    {
     "name": "stdout",
     "output_type": "stream",
     "text": [
      "positive, impressed, comfortable\n"
     ]
    }
   ],
   "source": [
    "prompt = f\"\"\"\n",
    "Identify emotions used in this text. Don't use moer than 3 emotions.\n",
    "Format your answer as a list of words seperated by commas:\n",
    "```{text}```\n",
    "\"\"\"\n",
    "print(get_response(prompt))"
   ]
  },
  {
   "cell_type": "markdown",
   "id": "d75b73fc",
   "metadata": {},
   "source": [
    "# Entity Extraction\n",
    "- Extracting specific entities from text\n",
    "- Examples: names, places, organizations, dates\n",
    "## Specify entities:\n",
    "- specify entities to extract\n",
    "- mention output format"
   ]
  },
  {
   "cell_type": "code",
   "execution_count": 7,
   "id": "59cdd4ab",
   "metadata": {},
   "outputs": [
    {
     "name": "stdout",
     "output_type": "stream",
     "text": [
      "- Product Name: The x mobile x200\n",
      "- Display size: 6.5 inch\n",
      "- Camera resolution: 50MP\n"
     ]
    }
   ],
   "source": [
    "text = \"\"\"\n",
    "The x mobile x200: a sleek 6.5 inch super amoled smartphone with\n",
    "a 50MP triple-camera, octa-processor, 5000mAh battery, 5G connectivity,\n",
    "and Android 14 OS. Secure with fingerprint and facial recognition.\n",
    "128 GB storage, expandable to 512 GB.\n",
    "\"\"\"\n",
    "prompt = f\"\"\"\n",
    "Identify the following entities from the text delimited by triple\n",
    "backtics \n",
    "- Product Name\n",
    "- Display size\n",
    "- Camera resolution\n",
    "```{text}```\n",
    "\"\"\"\n",
    "response = get_response(prompt)\n",
    "print(response)"
   ]
  },
  {
   "cell_type": "markdown",
   "id": "a3e9e61d",
   "metadata": {},
   "source": [
    "# Entity extraction with few shot prompts\n",
    "- For complex structures: "
   ]
  },
  {
   "cell_type": "code",
   "execution_count": 8,
   "id": "11b3f9c7",
   "metadata": {},
   "outputs": [
    {
     "name": "stdout",
     "output_type": "stream",
     "text": [
      "* Customer Details:\n",
      "- Name: y\n",
      "* Reservation Details:\n",
      "- Reservation Code: HOTEL456\n"
     ]
    }
   ],
   "source": [
    "ticket_1 = \"\"\"Hello, I am x. I'd like to ask about my reservation\n",
    "with the code car1234\n",
    "You can reach me at _12324 if needed\"\"\"\n",
    "ticket_2 = \"\"\"This is sarah. I would like to request some information\n",
    "regarding my upcoming flight with reservation code FLIGHT2943. Thank you.\"\"\"\n",
    "ticket_3 =\"\"\"Hello I am y. I need assistance with my reservation under\n",
    "the code HOTEL456. there are some questions and issues related to my upcoming stay\n",
    "that require your attention.\"\"\"\n",
    "entities_1 = \"\"\"\n",
    "* Customer Details:\n",
    "- Name: x\n",
    "- Phone: _12324\n",
    "\"\"\"\n",
    "entities_2 = \"\"\"\n",
    "* Customer Details:\n",
    "- Name: sarah\n",
    "* Reservation Details:\n",
    "- Reservation Code: FLIGHT2943\n",
    "\"\"\"\n",
    "prompt=f\"\"\"\n",
    "Text: {ticket_1} -> Entities: {entities_1}\n",
    "Text: {ticket_2} -> Entities: {entities_2}\n",
    "Text: {ticket_3} -> Entities: \n",
    "\"\"\"\n",
    "response = get_response(prompt)\n",
    "print(response)"
   ]
  },
  {
   "cell_type": "markdown",
   "id": "4f8782eb",
   "metadata": {},
   "source": [
    "# Exercise\n",
    "A large customer support team receives many tickets related to different business areas, such as technical issues, billing inquiries, and product feedback. Your task is to create a prompt that automatically classifies incoming tickets into these three groups and routes them to the appropriate support specialists, reducing response times and enhancing customer satisfaction. You will test your prompt on a provided sample ticket.\n",
    "### Instructions:\n",
    "- Craft a prompt that classifies the ticket as technical issue, billing inquiry, or product feedback, without providing anything else in the response."
   ]
  },
  {
   "cell_type": "code",
   "execution_count": null,
   "id": "d45ee71e",
   "metadata": {},
   "outputs": [],
   "source": [
    "ticket = \"\"\"\n",
    "Subject: Urgent - Login Error\n",
    "\n",
    "Hi Support Team,\n",
    "\n",
    "I'm having trouble accessing my account with the username \"example_user.\" Every time I try to log in, I encounter an error message. I've already attempted to reset my password, but the issue persists. I need to resolve this problem urgently, as I have pending tasks that require immediate attention.\n",
    "\n",
    "Please investigate and assist promptly.\n",
    "\n",
    "Thanks,\n",
    "John.\n",
    "\"\"\"\n",
    "\n",
    "# Craft a prompt to classify the ticket\n",
    "prompt = f\"\"\"\n",
    "Your task is to classify the message delimited by triple backticks into three groups: technical issue, billing inquiry and product feedback without providing anything else in the response\n",
    "\n",
    "```{ticket}```\n",
    "\"\"\"\n",
    "\n",
    "\n",
    "response = get_response(prompt)\n",
    "\n",
    "print(\"Ticket: \", ticket)\n",
    "print(\"Class: \", response)\n",
    "\n"
   ]
  },
  {
   "cell_type": "markdown",
   "id": "ed3a6129",
   "metadata": {},
   "source": [
    "# Customer support ticket analysis\n",
    "Not only does a customer support team receive tickets related to different business areas, but the inquiries also come through various channels, such as email, chat, and social media. The company wants to automatically extract key entities from customer support tickets to categorize and prioritize them appropriately to provide better support. Your job is to craft a few-shot prompt that helps them achieve that.\n",
    "\n",
    "You have three sample tickets (ticket_1, ticket_2, and ticket_3) and their corresponding entities (entities_1, entities_2, and entities_3) to inform the model what to look for and how to display it. You need the model to extract entities from the new ticket_4 string.\n",
    "### Instructions:\n",
    "- Craft a few-shot prompt that uses three tickets and corresponding entities, to extract entities from the new ticket ticket_4"
   ]
  },
  {
   "cell_type": "code",
   "execution_count": null,
   "id": "ad87cc95",
   "metadata": {},
   "outputs": [],
   "source": [
    "ticket_1 = \"\"\"\n",
    "Hi there! My name is John Smith, and I am experiencing issues with your premium software, XYZ Pro. My license key is ABC12345. I purchased it last week, but it's not activating properly on my computer.\n",
    "\"\"\"\n",
    "ticket_2 = \"\"\"\n",
    "Dear support team, I am writing to inquire about the delivery status of my order. My name is Jane Doe, and I placed an order for a laptop on your website two days ago. The order number is ORD56789. Can you please provide an update on the delivery?\n",
    "\"\"\"\n",
    "ticket_3 = \"\"\"\n",
    "Hello, I am having trouble accessing my account on your mobile app. My name is Alex Johnson, and I have a subscription for your Gold Plan. Can you help me resolve this issue?\n",
    "\"\"\"\n",
    "ticket_4 =\"\"\"\n",
    "Greetings, I am facing technical difficulties with your software, ABC Editor. My name is Sarah Lee, and I recently upgraded to the latest version. However, whenever I try to save my work, the software crashes. Can you please help me resolve this problem?\n",
    "\"\"\"\n",
    "\n",
    "entities_1 = \"\"\"\n",
    "* Customer Details:\n",
    "  - Name: John Smith\n",
    "  - License Key: ABC12345\n",
    "* Product/Service Mentions:\n",
    "  - Product: XYZ Pro (premium software)\n",
    "\"\"\"\n",
    "\n",
    "entities_2 = \"\"\"\n",
    "* Customer Details:\n",
    "  - Name: Jane Doe\n",
    "* Product/Service Mentions:\n",
    "  - Product: laptop\n",
    "\"\"\"\n",
    "\n",
    "entities_3 = \"\"\"\n",
    "* Customer Details:\n",
    "  - Name: Alex Johnson\n",
    "* Product/Service Mentions:\n",
    "  - Product: mobile app\n",
    "  - Service: Gold Plan\n",
    "\"\"\"\n",
    "\n",
    "# Craft a few-shot prompt to get the ticket's entities\n",
    "prompt = f\"\"\"\n",
    "Ticket: {ticket_1} -> Entities: {entities_1}\n",
    "Ticket: {ticket_2} -> Entities: {entities_2}\n",
    "Ticket: {ticket_3} -> Entities: {entities_3}\n",
    "Ticket: {ticket_4} -> Entities:\n",
    "\"\"\"\n",
    "\n",
    "response = get_response(prompt)\n",
    "\n",
    "print(\"Ticket: \\n\", ticket_4)\n",
    "print(\"Entities: \\n\", response)\n"
   ]
  }
 ],
 "metadata": {
  "kernelspec": {
   "display_name": "Python 3 (ipykernel)",
   "language": "python",
   "name": "python3"
  },
  "language_info": {
   "codemirror_mode": {
    "name": "ipython",
    "version": 3
   },
   "file_extension": ".py",
   "mimetype": "text/x-python",
   "name": "python",
   "nbconvert_exporter": "python",
   "pygments_lexer": "ipython3",
   "version": "3.9.12"
  }
 },
 "nbformat": 4,
 "nbformat_minor": 5
}
