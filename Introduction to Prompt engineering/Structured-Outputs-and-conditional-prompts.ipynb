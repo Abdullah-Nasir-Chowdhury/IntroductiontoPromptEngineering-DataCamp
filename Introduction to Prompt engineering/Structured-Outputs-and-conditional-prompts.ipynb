{
 "cells": [
  {
   "cell_type": "markdown",
   "id": "f3f7c0c7",
   "metadata": {},
   "source": [
    "# Setup"
   ]
  },
  {
   "cell_type": "code",
   "execution_count": 1,
   "id": "78a1455b",
   "metadata": {},
   "outputs": [],
   "source": [
    "import openai, os\n",
    "from dotenv import main\n",
    "\n",
    "main.load_dotenv()\n",
    "openai.api_key = os.getenv(\"OPENAI_API_KEY\")"
   ]
  },
  {
   "cell_type": "markdown",
   "id": "38da6282",
   "metadata": {},
   "source": [
    "# Generate function"
   ]
  },
  {
   "cell_type": "code",
   "execution_count": 2,
   "id": "72a58751",
   "metadata": {},
   "outputs": [],
   "source": [
    "def get_response(prompt, model = 'gpt-3.5-turbo', temperature = 0):\n",
    "    messages = [{\"role\":\"user\", \"content\":prompt}]\n",
    "    response = openai.ChatCompletion.create(\n",
    "        model = model,\n",
    "        messages = messages,\n",
    "        temperature = temperature\n",
    "    )\n",
    "    return response.choices[0].message[\"content\"]"
   ]
  },
  {
   "cell_type": "code",
   "execution_count": 3,
   "id": "b78b07d0",
   "metadata": {},
   "outputs": [],
   "source": [
    "prompt = \"\"\"Generate a table containing 5 movies I should watch\n",
    "if I am an action lover with columns for title and rating\"\"\""
   ]
  },
  {
   "cell_type": "code",
   "execution_count": 4,
   "id": "a1275493",
   "metadata": {},
   "outputs": [],
   "source": [
    "response = get_response(prompt)"
   ]
  },
  {
   "cell_type": "code",
   "execution_count": 5,
   "id": "0cb92ced",
   "metadata": {},
   "outputs": [
    {
     "name": "stdout",
     "output_type": "stream",
     "text": [
      "Title | Rating\n",
      "------------ | -------------\n",
      "John Wick | 8.4/10\n",
      "Mad Max: Fury Road | 8.1/10\n",
      "The Dark Knight | 9.0/10\n",
      "Die Hard | 8.2/10\n",
      "Mission: Impossible - Fallout | 7.7/10\n"
     ]
    }
   ],
   "source": [
    "print(response)"
   ]
  },
  {
   "cell_type": "markdown",
   "id": "30e7f8d2",
   "metadata": {},
   "source": [
    "# Lists"
   ]
  },
  {
   "cell_type": "markdown",
   "id": "840d1798",
   "metadata": {},
   "source": [
    "Helpful for enumerations"
   ]
  },
  {
   "cell_type": "code",
   "execution_count": 6,
   "id": "2fce1e79",
   "metadata": {},
   "outputs": [
    {
     "name": "stdout",
     "output_type": "stream",
     "text": [
      "1. Paris, France\n",
      "2. Tokyo, Japan\n",
      "3. Rome, Italy\n",
      "4. New York City, USA\n",
      "5. Barcelona, Spain\n"
     ]
    }
   ],
   "source": [
    "prompt = \"\"\"Generate a list containing the names of the top 5 cities\n",
    "to visit\"\"\"\n",
    "print(get_response(prompt))"
   ]
  },
  {
   "cell_type": "markdown",
   "id": "691e6cfa",
   "metadata": {},
   "source": [
    "Explicitly mention specific requirements for numbering. "
   ]
  },
  {
   "cell_type": "code",
   "execution_count": 7,
   "id": "457e4769",
   "metadata": {},
   "outputs": [],
   "source": [
    "prompt = \"\"\"\n",
    "Generate an unordered list containing the names of the top 5 cities to visit.\n",
    "\"\"\""
   ]
  },
  {
   "cell_type": "code",
   "execution_count": 8,
   "id": "b0637a73",
   "metadata": {},
   "outputs": [
    {
     "name": "stdout",
     "output_type": "stream",
     "text": [
      "- Paris\n",
      "- Tokyo\n",
      "- New York City\n",
      "- Barcelona\n",
      "- Sydney\n"
     ]
    }
   ],
   "source": [
    "print(get_response(prompt))"
   ]
  },
  {
   "cell_type": "markdown",
   "id": "ab13f658",
   "metadata": {},
   "source": [
    "# Structured Paragraphs\n",
    "Mention structure requirement in the prompt"
   ]
  },
  {
   "cell_type": "code",
   "execution_count": 9,
   "id": "b5190a2c",
   "metadata": {},
   "outputs": [
    {
     "name": "stdout",
     "output_type": "stream",
     "text": [
      "I. Introduction\n",
      "Regular exercise has numerous benefits for overall health and well-being. Engaging in physical activity on a consistent basis can have a positive impact on various aspects of our lives, including physical, mental, and emotional well-being.\n",
      "\n",
      "II. Physical Benefits\n",
      "Regular exercise offers a wide range of physical benefits that contribute to overall health. These include:\n",
      "\n",
      "A. Improved cardiovascular health\n",
      "Engaging in aerobic exercises such as running, swimming, or cycling can strengthen the heart and improve blood circulation, reducing the risk of heart disease and stroke.\n",
      "\n",
      "B. Weight management\n",
      "Regular exercise helps to burn calories and build muscle, aiding in weight loss or maintenance. It also boosts metabolism, making it easier to maintain a healthy weight.\n",
      "\n",
      "C. Increased strength and flexibility\n",
      "Strength training exercises, such as weightlifting or resistance training, help build muscle mass and increase bone density. Additionally, activities like yoga or stretching can improve flexibility and range of motion.\n",
      "\n",
      "D. Enhanced immune system\n",
      "Regular physical activity can strengthen the immune system, reducing the risk of common illnesses and infections.\n",
      "\n",
      "III. Mental and Emotional Benefits\n",
      "In addition to the physical advantages, regular exercise also has significant mental and emotional benefits. These include:\n",
      "\n",
      "A. Reduced stress and anxiety\n",
      "Exercise stimulates the production of endorphins, which are natural mood boosters. It can help alleviate stress, anxiety, and symptoms of depression, promoting overall mental well-being.\n",
      "\n",
      "B. Improved cognitive function\n",
      "Physical activity increases blood flow to the brain, enhancing cognitive function, memory, and concentration. It can also reduce the risk of cognitive decline and improve overall brain health.\n",
      "\n",
      "C. Better sleep quality\n",
      "Regular exercise can improve sleep patterns, helping individuals fall asleep faster and enjoy a deeper, more restful sleep. This leads to increased energy levels and improved overall mood.\n",
      "\n",
      "IV. Social Benefits\n",
      "Engaging in regular exercise often involves participating in group activities or joining fitness classes, which can have social benefits. These include:\n",
      "\n",
      "A. Increased social interaction\n",
      "Exercising with others provides opportunities for social interaction, fostering new friendships and a sense of community.\n",
      "\n",
      "B. Enhanced motivation and accountability\n",
      "Exercising with a partner or in a group setting can increase motivation and accountability, making it more likely for individuals to stick to their exercise routine.\n",
      "\n",
      "V. Conclusion\n",
      "Regular exercise offers a multitude of benefits for overall health and well-being. From physical advantages such as improved cardiovascular health and weight management to mental and emotional benefits like reduced stress and enhanced cognitive function, incorporating regular exercise into our lives can have a transformative impact on our overall health and quality of life.\n"
     ]
    }
   ],
   "source": [
    "prompt = \"\"\"Provide a structured paragraph with clear headings\n",
    "and subheadings about the benefits of regular exercise on overall \n",
    "health and well-being.\"\"\"\n",
    "print(get_response(prompt))"
   ]
  },
  {
   "cell_type": "markdown",
   "id": "4821fc77",
   "metadata": {},
   "source": [
    "# Custom Output format"
   ]
  },
  {
   "cell_type": "code",
   "execution_count": 10,
   "id": "d5b8c751",
   "metadata": {},
   "outputs": [
    {
     "name": "stdout",
     "output_type": "stream",
     "text": [
      "- Text: Once upon a time in a quaint little village, there lived a curious young boy named David. David was [...]\n",
      "- Title: The Curious Adventures of David in a Quaint Village\n"
     ]
    }
   ],
   "source": [
    "text = \"\"\"Once upon a time in a quaint little village, \n",
    "there lived a curious young boy named David. David was [...]\"\"\"\n",
    "instructions = \"\"\"You will be provided with a text delimited\n",
    "by triple backticks. Generate a suitable title for it.\n",
    "\"\"\"\n",
    "output_format= \"\"\"Use the following format for the output:\n",
    "        - Text: <text we want to title>\n",
    "        - Title: <the generated title>\n",
    "\"\"\"\n",
    "prompt = instructions + output_format + f\"'''{text}'''\"\n",
    "print(get_response(prompt))"
   ]
  },
  {
   "cell_type": "markdown",
   "id": "a4ebf9b8",
   "metadata": {},
   "source": [
    "# Conditional Prompts\n",
    "- incorporate logic or conditions\n",
    "- conditional prompts follow an if-else style"
   ]
  },
  {
   "cell_type": "code",
   "execution_count": 11,
   "id": "80757572",
   "metadata": {},
   "outputs": [
    {
     "name": "stdout",
     "output_type": "stream",
     "text": [
      "A Curious Young Boy Named David\n"
     ]
    }
   ],
   "source": [
    " prompt = f\"\"\"You will be provided with a text delimited by triple\n",
    " backticks. If the text is written in English, suggest a suitable \n",
    " title for it. Otherwise, write 'I only understand English.'\n",
    " '''{text}'''\n",
    " \"\"\"\n",
    "print(get_response(prompt))"
   ]
  },
  {
   "cell_type": "markdown",
   "id": "72d0ad81",
   "metadata": {},
   "source": [
    "- can incorporate multiple conditions"
   ]
  },
  {
   "cell_type": "code",
   "execution_count": 12,
   "id": "1392908d",
   "metadata": {},
   "outputs": [
    {
     "name": "stdout",
     "output_type": "stream",
     "text": [
      "Keyword not found.\n"
     ]
    }
   ],
   "source": [
    "text = \"\"\"In the heart of the forest filters throught the lush green\n",
    "canopy, creating a tranquil atmosphere [...]\"\"\"\n",
    "prompt = f\"\"\"You will be provided with a text delimited by triplebackticks.\n",
    "If the text is written in English, check if it contains the keyword 'technology'.\n",
    "If it does, suggest a suitable title for it, otherwise, write, 'Keyword not found.'\n",
    "'''{text}'''\n",
    "\"\"\"\n",
    "print(get_response(prompt))"
   ]
  },
  {
   "cell_type": "code",
   "execution_count": null,
   "id": "897c1359",
   "metadata": {},
   "outputs": [],
   "source": []
  }
 ],
 "metadata": {
  "kernelspec": {
   "display_name": "Python 3 (ipykernel)",
   "language": "python",
   "name": "python3"
  },
  "language_info": {
   "codemirror_mode": {
    "name": "ipython",
    "version": 3
   },
   "file_extension": ".py",
   "mimetype": "text/x-python",
   "name": "python",
   "nbconvert_exporter": "python",
   "pygments_lexer": "ipython3",
   "version": "3.9.12"
  }
 },
 "nbformat": 4,
 "nbformat_minor": 5
}
