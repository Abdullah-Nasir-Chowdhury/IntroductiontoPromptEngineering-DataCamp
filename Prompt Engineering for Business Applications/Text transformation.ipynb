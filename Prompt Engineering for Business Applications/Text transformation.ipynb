{
 "cells": [
  {
   "cell_type": "markdown",
   "id": "21341d8c",
   "metadata": {},
   "source": [
    "# Setup API Key"
   ]
  },
  {
   "cell_type": "code",
   "execution_count": 1,
   "id": "af5de91d",
   "metadata": {},
   "outputs": [],
   "source": [
    "import openai\n",
    "import os\n",
    "import dotenv\n",
    "from dotenv import main\n",
    "\n",
    "\n",
    "main.load_dotenv()\n",
    "openai.api_key = os.getenv(\"OPENAI_API_KEY\")"
   ]
  },
  {
   "cell_type": "markdown",
   "id": "14b7acc8",
   "metadata": {},
   "source": [
    "# Create Function"
   ]
  },
  {
   "cell_type": "code",
   "execution_count": 2,
   "id": "73754513",
   "metadata": {},
   "outputs": [],
   "source": [
    "def get_response(prompt):\n",
    "    # create a request to the chat completion endpoint\n",
    "    response = openai.ChatCompletion.create(\n",
    "        model = \"gpt-3.5-turbo\",\n",
    "        messages = [{\"role\":\"user\", \"content\":prompt}],\n",
    "        temperature = 0\n",
    "    )\n",
    "    return response.choices[0].message[\"content\"]"
   ]
  },
  {
   "cell_type": "markdown",
   "id": "d79bf432",
   "metadata": {},
   "source": [
    "# Text transformation\n",
    "- Transforms given text to create a new text\n",
    "- Applications:\n",
    "    - Language translation\n",
    "    - Tone adjustments\n",
    "    - Writing Improvement\n",
    "    \n",
    "# Language translation\n",
    "- Specify input and output language in prompt"
   ]
  },
  {
   "cell_type": "code",
   "execution_count": 3,
   "id": "ceffccb8",
   "metadata": {},
   "outputs": [
    {
     "name": "stdout",
     "output_type": "stream",
     "text": [
      "```আমি বাংলাদেশ থেকে এসেছি।```\n"
     ]
    }
   ],
   "source": [
    "text = \"I am from Bangladesh.\"\n",
    "prompt = f\"\"\"Translate the English text delimited by triple backticks\n",
    "to Bangla\n",
    "```{text}```\"\"\"\n",
    "print(get_response(prompt))"
   ]
  },
  {
   "cell_type": "markdown",
   "id": "97274b5b",
   "metadata": {},
   "source": [
    "- If language of input text is not known:"
   ]
  },
  {
   "cell_type": "code",
   "execution_count": 4,
   "id": "fe16a98c",
   "metadata": {},
   "outputs": [
    {
     "name": "stdout",
     "output_type": "stream",
     "text": [
      "The text is written in the language Bengali.\n"
     ]
    }
   ],
   "source": [
    "text = \"Ami Bangladesh theke eshechi\"\n",
    "prompt = f\"\"\"\n",
    "Tell me which language is the text delimited by triple backticks:\n",
    "```{text}```\n",
    "\"\"\"\n",
    "print(get_response(prompt))"
   ]
  },
  {
   "cell_type": "markdown",
   "id": "4d957b0c",
   "metadata": {},
   "source": [
    "# Multilingual translation\n",
    "- Translate to multiple languages simulataneously"
   ]
  },
  {
   "cell_type": "code",
   "execution_count": 5,
   "id": "0a1b3bd7",
   "metadata": {},
   "outputs": [
    {
     "name": "stdout",
     "output_type": "stream",
     "text": [
      "Bangla: ```এটা আমার ঘড়ি।```\n",
      "Hindi: ```यह मेरी घड़ी है।```\n",
      "Arabic: ```هذه ساعتي.```\n",
      "Japanese: ```これは私の時計です。```\n"
     ]
    }
   ],
   "source": [
    "text = \"This is my watch.\"\n",
    "prompt = f\"\"\"\n",
    "Translate the English text delimited by triple backticks to \n",
    "Bangla, Hindi, Arabic and Japanese:\n",
    "```{text}```\n",
    "\"\"\"\n",
    "print(get_response(prompt))"
   ]
  },
  {
   "cell_type": "markdown",
   "id": "88b2824c",
   "metadata": {},
   "source": [
    "# Tone Adjustment\n",
    "- Re-write text in a different tone"
   ]
  },
  {
   "cell_type": "code",
   "execution_count": 7,
   "id": "255ac95a",
   "metadata": {},
   "outputs": [
    {
     "name": "stdout",
     "output_type": "stream",
     "text": [
      "Dear valued customer,\n",
      "\n",
      "We are thrilled to introduce our latest product, which we believe will exceed your expectations. Allow us to present to you our exceptional creation: ```Hey yo! Tis product is fire!```\n",
      "\n",
      "With utmost confidence, we assure you that this product is nothing short of extraordinary. Its remarkable features and unparalleled quality make it a true game-changer in its field. We have meticulously designed and crafted this product to provide you with an unparalleled experience that will leave you in awe.\n",
      "\n",
      "Our team of experts has poured their heart and soul into developing this product, ensuring that every detail has been carefully considered. From its sleek and modern design to its cutting-edge technology, we have left no stone unturned in creating a product that is truly exceptional.\n",
      "\n",
      "We understand that you, as a discerning customer, seek nothing but the best. Rest assured, this product has been rigorously tested to meet the highest standards of quality and performance. We have spared no expense in sourcing the finest materials and employing the latest advancements in technology to bring you a product that is second to none.\n",
      "\n",
      "Furthermore, we take great pride in our commitment to customer satisfaction. Should you encounter any issues or have any questions, our dedicated customer support team is always ready to assist you. We value your feedback and strive to ensure that your experience with our product is nothing short of exceptional.\n",
      "\n",
      "In conclusion, we invite you to experience the sheer brilliance of our latest creation. ```Hey yo! Tis product is fire!``` We are confident that once you have had the opportunity to witness its remarkable capabilities firsthand, you will be convinced of its superiority.\n",
      "\n",
      "Thank you for considering our product. We look forward to serving you and exceeding your expectations.\n",
      "\n",
      "Sincerely,\n",
      "\n",
      "[Your Name]\n",
      "[Your Title/Position]\n",
      "[Company Name]\n"
     ]
    }
   ],
   "source": [
    "text = \"Hey yo! Tis product is fire!\"\n",
    "prompt = f\"\"\"\n",
    "    Write the text delimited by triple backticks using a formal \n",
    "    and persuasive tone:\n",
    "    ```{text}```\n",
    "\"\"\"\n",
    "print(get_response(prompt))"
   ]
  },
  {
   "cell_type": "markdown",
   "id": "4dcd50da",
   "metadata": {},
   "source": [
    "# Tone adjustment: specify audience"
   ]
  },
  {
   "cell_type": "code",
   "execution_count": 9,
   "id": "5f578694",
   "metadata": {},
   "outputs": [
    {
     "name": "stdout",
     "output_type": "stream",
     "text": [
      "Our amazing widget uses the latest technology to work faster and better than ever before. It can do a lot of different things really well and is super efficient.\n"
     ]
    }
   ],
   "source": [
    "text = \"\"\"Our cutting-edge widget employs state-of-the-art microprocessors\n",
    "and advanced algorithms, delivering unparalleled\n",
    "efficiency and performance for a wide range of applications.\"\"\"\n",
    "prompt = f\"\"\"\n",
    "Write the text delimited by triple backticks to be suitable for \n",
    "a non-technical audience:\n",
    "```{text}```\n",
    "\"\"\"\n",
    "response = get_response(prompt)\n",
    "print(response)"
   ]
  },
  {
   "cell_type": "markdown",
   "id": "e3e800bf",
   "metadata": {},
   "source": [
    "# Grammar and writing improvements\n",
    "- Correct spelling, grammar and punctuation mistakes without modifying other aspects"
   ]
  },
  {
   "cell_type": "code",
   "execution_count": null,
   "id": "bc778735",
   "metadata": {},
   "outputs": [],
   "source": [
    "text = \"Dear sir, I wanted to discus a potentiel oportunitey.\"\n",
    "prompt = f\"\"\"\n",
    "Proofread the text delimited by triple backticks while keeping\n",
    "the original text structure intact:\n",
    "```{text}```\n",
    "\"\"\"\n",
    "print(get_response(prompt))"
   ]
  },
  {
   "cell_type": "markdown",
   "id": "ba45ad99",
   "metadata": {},
   "source": [
    "- Enhance clarity by modifying text structure"
   ]
  },
  {
   "cell_type": "code",
   "execution_count": null,
   "id": "4890b553",
   "metadata": {},
   "outputs": [],
   "source": [
    "prompt = f\"\"\"\n",
    "Proofread and restructure the text delimited by triple backticks for \n",
    "enhanced readability, flow and coherence:\n",
    "```{text}```\n",
    "\"\"\"\n",
    "print(get_response(prompt))"
   ]
  },
  {
   "cell_type": "markdown",
   "id": "79dc853e",
   "metadata": {},
   "source": [
    "# Multiple transformations\n",
    "- Ask for multiple transformations at once -> multi-step prompts"
   ]
  },
  {
   "cell_type": "code",
   "execution_count": null,
   "id": "79d7c855",
   "metadata": {},
   "outputs": [],
   "source": [
    "text = \"\"\"omg, I cant believe how awesome tis prod is! Tis like de best ting evah! Yo guys gotta try it out! Tis fire!\"\"\"\n",
    "prompt = f\"\"\"\n",
    "Translate the text delimited by triple backticks with the following two steps:\n",
    "Step 1 - Proofread the text without changing its structure\n",
    "Step 2 - Change the tone to be professional\n",
    "```{text}```\n",
    "\"\"\"\n",
    "response = get_response(prompt)\n",
    "print(response)"
   ]
  },
  {
   "cell_type": "markdown",
   "id": "769eb455",
   "metadata": {},
   "source": [
    "# Exercise\n",
    "\n",
    "### Translation for multilingual communication\n",
    "A multinational company wants to expand its reach to more international markets. They need a language translation solution to convert their product descriptions and marketing materials into multiple languages. These will then be verified before being published.\n",
    "\n",
    "Your task is to design a prompt that translates text from one language to multiple other languages, facilitating effective communication with customers worldwide. You will apply your prompt on a provided marketing_message that introduces their latest collection of premium leather handbags.\n",
    "\n",
    "### Instructions\n",
    "- Craft a prompt that translates the marketing_message from English to French, Spanish, and Japanese"
   ]
  },
  {
   "cell_type": "code",
   "execution_count": null,
   "id": "52dc477b",
   "metadata": {},
   "outputs": [],
   "source": [
    "marketing_message = \"\"\"Introducing our latest collection of premium leather handbags. Each bag is meticulously crafted using the finest leather, ensuring durability and elegance. With a variety of designs and colors, our handbags are perfect for any occasion. Shop now and experience the epitome of style and quality.\"\"\"\n",
    "\n",
    "# Craft a prompt that translates\n",
    "prompt = f\"\"\"\n",
    "Your task is to translate the English text delimited by triple backticks to French, Spanish and Japanese\n",
    "```{marketing_message}```\n",
    "\"\"\"\n",
    " \n",
    "response = get_response(prompt)\n",
    "\n",
    "print(\"English:\", marketing_message)\n",
    "print(response)\n"
   ]
  },
  {
   "cell_type": "markdown",
   "id": "b4c36fc0",
   "metadata": {},
   "source": [
    "# Tone adjustment for email marketing\n",
    "\n",
    "An e-commerce company regularly conducts email marketing campaigns to promote its products, inform customers about new arrivals, and offer exclusive deals. The company has a hypothesis that their current strategy is too informal and they want to test out how tone adjustment to their emails could help boost customer engagement.\n",
    "\n",
    "Your task is to craft a prompt that can effectively transform the tone of marketing emails. You will apply your prompt on the sample_email provided.\n",
    "\n",
    "### Instructions:\n",
    "- Craft a prompt that transforms the sample_email by changing its tone to be professional, positive, and user-centric."
   ]
  },
  {
   "cell_type": "code",
   "execution_count": null,
   "id": "c88f8158",
   "metadata": {},
   "outputs": [],
   "source": [
    "sample_email = \"\"\"\n",
    "    Subject: Check out our latest products!\n",
    "    \n",
    "    Dear Customer,\n",
    "    \n",
    "    We are excited to introduce our latest product line that includes a wide range of items to suit your needs. Whether you're looking for electronics, home appliances, or fashion accessories, we have it all!\n",
    "    \n",
    "    Hurry and visit our website to explore the fantastic deals and discounts we have for you. Don't miss out on the opportunity to get the best products at unbeatable prices.\n",
    "    \n",
    "    Thank you for being a valued customer, and we look forward to serving you soon!\n",
    "    \n",
    "    Best regards,\n",
    "    The Marketing Team\n",
    "\"\"\"\n",
    "\n",
    "# Craft a prompt to change the email's tone\n",
    "prompt = f\"\"\"\n",
    "Your task is to write the sample_email delimited by triple backticks using a professional, positive and user-centric tone.\n",
    "```{sample_email}```\n",
    "\"\"\"\n",
    "response = get_response(prompt)\n",
    "\n",
    "print(\"Before transformation: \\n\", sample_email)\n",
    "print(\"After transformation: \\n\", response)\n"
   ]
  },
  {
   "cell_type": "markdown",
   "id": "83877f85",
   "metadata": {},
   "source": [
    "# Writing improvement\n",
    "A popular online community relies on user-generated content to thrive. Users frequently contribute reviews, articles, and comments, but the quality of these contributions varies. To elevate the overall experience for its members, the community aims to enhance user-generated texts. This includes fixing grammar errors and refining writing tones to create a more polished and engaging environment for all users. Your task is to build a multi-step prompt that proofreads and adjusts the tone of a given text.\n",
    "### Instructions:\n",
    "- Craft a multi-step prompt that proofreads the text without changing its structure and adjusts its tone to be formal and friendly."
   ]
  },
  {
   "cell_type": "code",
   "execution_count": null,
   "id": "924fb242",
   "metadata": {},
   "outputs": [],
   "source": [
    "text = \"\"\"\n",
    "\n",
    "    Hey guys, wanna know a cool trick? Here's how u can up your productivity game! \n",
    "    First, download this awesome app, it's like the best thing ever! \n",
    "    Then, just start using it and u'll see the difference. \n",
    "    Its super easy and fun, trust me! So, what are u waiting for?\n",
    "    Try it out now!\n",
    "    \n",
    "\"\"\"\n",
    "# Craft a prompt to transform the text\n",
    "prompt = f\"\"\"\n",
    "Your task is to transform the text delimited by triple backticks applying the following steps:\n",
    "Step 1 - Proofread the text without changing it's structure\n",
    "Step 2 - Adjust it's tone to be formal and friendly\n",
    "```{text}```\n",
    "\"\"\"\n",
    "\n",
    "response = get_response(prompt)\n",
    "\n",
    "print(\"Before transformation:\\n\", text)\n",
    "print(\"After transformation:\\n\", response)"
   ]
  }
 ],
 "metadata": {
  "kernelspec": {
   "display_name": "Python 3 (ipykernel)",
   "language": "python",
   "name": "python3"
  },
  "language_info": {
   "codemirror_mode": {
    "name": "ipython",
    "version": 3
   },
   "file_extension": ".py",
   "mimetype": "text/x-python",
   "name": "python",
   "nbconvert_exporter": "python",
   "pygments_lexer": "ipython3",
   "version": "3.9.12"
  }
 },
 "nbformat": 4,
 "nbformat_minor": 5
}
